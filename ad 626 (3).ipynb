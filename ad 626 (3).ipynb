{
 "cells": [
  {
   "cell_type": "code",
   "execution_count": 23,
   "id": "59a0c7cc-53e3-4ddc-aa21-afc97b0e4772",
   "metadata": {},
   "outputs": [
    {
     "name": "stdout",
     "output_type": "stream",
     "text": [
      "{'mobile_usage': [1, 2, 5], 'name': ['bhavagna', 'sudharshan', 'sirikonda'], 'reg_no': [626, 627, 666]}\n"
     ]
    }
   ],
   "source": [
    "import pandas as pd \n",
    "mobile_usage =[1,2,5]\n",
    "name = [\"bhavagna\",\"sudharshan\",\"sirikonda\"]\n",
    "reg_no = [626,627,666]\n",
    "dict1 = {\"mobile_usage\":mobile_usage,\"name\":name,\"reg_no\":reg_no}\n",
    "print(dict1)\n",
    "\n"
   ]
  },
  {
   "cell_type": "code",
   "execution_count": 25,
   "id": "0e0e7317-4bfe-4412-b60a-0184ebca62ac",
   "metadata": {},
   "outputs": [
    {
     "data": {
      "text/html": [
       "<div>\n",
       "<style scoped>\n",
       "    .dataframe tbody tr th:only-of-type {\n",
       "        vertical-align: middle;\n",
       "    }\n",
       "\n",
       "    .dataframe tbody tr th {\n",
       "        vertical-align: top;\n",
       "    }\n",
       "\n",
       "    .dataframe thead th {\n",
       "        text-align: right;\n",
       "    }\n",
       "</style>\n",
       "<table border=\"1\" class=\"dataframe\">\n",
       "  <thead>\n",
       "    <tr style=\"text-align: right;\">\n",
       "      <th></th>\n",
       "      <th>mobile_usage</th>\n",
       "      <th>name</th>\n",
       "      <th>reg_no</th>\n",
       "    </tr>\n",
       "  </thead>\n",
       "  <tbody>\n",
       "    <tr>\n",
       "      <th>0</th>\n",
       "      <td>1</td>\n",
       "      <td>bhavagna</td>\n",
       "      <td>626</td>\n",
       "    </tr>\n",
       "    <tr>\n",
       "      <th>1</th>\n",
       "      <td>2</td>\n",
       "      <td>sudharshan</td>\n",
       "      <td>627</td>\n",
       "    </tr>\n",
       "    <tr>\n",
       "      <th>2</th>\n",
       "      <td>5</td>\n",
       "      <td>sirikonda</td>\n",
       "      <td>666</td>\n",
       "    </tr>\n",
       "  </tbody>\n",
       "</table>\n",
       "</div>"
      ],
      "text/plain": [
       "   mobile_usage        name  reg_no\n",
       "0             1    bhavagna     626\n",
       "1             2  sudharshan     627\n",
       "2             5   sirikonda     666"
      ]
     },
     "execution_count": 25,
     "metadata": {},
     "output_type": "execute_result"
    }
   ],
   "source": [
    "df =pd.DataFrame(dict1)\n",
    "df"
   ]
  },
  {
   "cell_type": "markdown",
   "id": "9b16b81e-1694-4f50-aae7-3a13c0aa0f8a",
   "metadata": {},
   "source": [
    "# lists\n"
   ]
  },
  {
   "cell_type": "code",
   "execution_count": 36,
   "id": "fcd99a6b-6ac4-438b-830a-04c747b61d71",
   "metadata": {},
   "outputs": [
    {
     "name": "stdout",
     "output_type": "stream",
     "text": [
      "[1, 2, 3, 4, 5]\n"
     ]
    }
   ],
   "source": [
    "list = [1,2,3,4,5]\n",
    "res = [i for i in list]\n",
    "print(res)"
   ]
  },
  {
   "cell_type": "code",
   "execution_count": 52,
   "id": "b4ad4f35-52d5-4a1a-826a-6e1d60676573",
   "metadata": {},
   "outputs": [
    {
     "name": "stdout",
     "output_type": "stream",
     "text": [
      "[2, 4]\n",
      "[1, 3, 5]\n"
     ]
    }
   ],
   "source": [
    "list = [1,2,3,4,5]\n",
    "res = [i for i in list if i%2==0]\n",
    "print(res)\n",
    "res = [i for i in list if i%2!=0]\n",
    "print(res)\n"
   ]
  },
  {
   "cell_type": "code",
   "execution_count": 5,
   "id": "77ca05bf-20c9-4b9e-9ac0-d694678beef5",
   "metadata": {},
   "outputs": [
    {
     "name": "stdout",
     "output_type": "stream",
     "text": [
      "{12: 'a', 123: 'abc', 26: 'id'}\n"
     ]
    }
   ],
   "source": [
    "dict1 = {\"a\":12,\"abc\":123,\"id\":26}\n",
    "result= {value:key for key,value in dict1.items()}\n",
    "print(result)"
   ]
  },
  {
   "cell_type": "code",
   "execution_count": 32,
   "id": "7f76b180-43a7-41b2-a17e-2dea317c6e88",
   "metadata": {},
   "outputs": [
    {
     "name": "stdout",
     "output_type": "stream",
     "text": [
      "{12: 'a', 123: 'abc', 26: 'id'}\n"
     ]
    }
   ],
   "source": [
    "dict1 = {\"a\":12,\"abc\":123,\"id\":26}\n",
    "result= {value:key for key,value in dict1.items()}\n",
    "print(result)"
   ]
  },
  {
   "cell_type": "code",
   "execution_count": 28,
   "id": "b78773f4-3ebe-417e-8817-fc92178dc0bf",
   "metadata": {},
   "outputs": [
    {
     "data": {
      "text/plain": [
       "dict_keys(['a', 'abc', 'id'])"
      ]
     },
     "execution_count": 28,
     "metadata": {},
     "output_type": "execute_result"
    }
   ],
   "source": [
    "dict1.keys()"
   ]
  },
  {
   "cell_type": "code",
   "execution_count": 36,
   "id": "9ed16f98-5f0d-41ab-9158-4ee14af0b2d0",
   "metadata": {},
   "outputs": [
    {
     "data": {
      "text/plain": [
       "dict_values([12, 123, 26])"
      ]
     },
     "execution_count": 36,
     "metadata": {},
     "output_type": "execute_result"
    }
   ],
   "source": [
    "dict1.values()"
   ]
  },
  {
   "cell_type": "code",
   "execution_count": 46,
   "id": "ba00b229-4a10-427f-8c1d-f0b888ccce5f",
   "metadata": {},
   "outputs": [
    {
     "name": "stdout",
     "output_type": "stream",
     "text": [
      "(1.0, 1.4142135623730951, 1.7320508075688772, 2.0, 2.23606797749979)\n"
     ]
    }
   ],
   "source": [
    "import math \n",
    "numbers = [1, 2, 3, 4, 5]\n",
    "res = tuple(math.sqrt(i) for i in numbers)\n",
    "print(res)"
   ]
  },
  {
   "cell_type": "code",
   "execution_count": 1,
   "id": "7e0d12e5-0a52-430b-b982-6e172a8dbaca",
   "metadata": {},
   "outputs": [
    {
     "name": "stdout",
     "output_type": "stream",
     "text": [
      "{'smartphone': 500}\n"
     ]
    }
   ],
   "source": [
    "dicts = [\n",
    "    {\"name\": \"laptop\", \"price\":800},\n",
    "    {\"name\": \"smartphone\", \"price\":500}\n",
    "]\n",
    "a = {i[\"name\"]:i[\"price\"] for i in dicts if i[\"price\"] <=500}\n",
    "print(a)\n",
    "    "
   ]
  },
  {
   "cell_type": "code",
   "execution_count": 12,
   "id": "8676c3b4-e6f0-4eb8-8544-8f179b83e644",
   "metadata": {},
   "outputs": [
    {
     "name": "stdout",
     "output_type": "stream",
     "text": [
      "[1, 4, 9, 16, 25, 36, 49, 64, 81, 100, 121, 144, 169, 196, 225, 256, 289, 324, 361, 400, 441, 484, 529, 576, 625, 676, 729, 784, 841, 900, 961, 1024, 1089, 1156, 1225, 1296, 1369, 1444, 1521, 1600, 1681, 1764, 1849, 1936, 2025, 2116, 2209, 2304, 2401]\n",
      "[1, 4, 9, 16, 25, 36, 49, 64, 81, 100, 121, 144, 169, 196, 225, 256, 289, 324, 361]\n"
     ]
    }
   ],
   "source": [
    "#finding list of squares \n",
    "res = [x**2 for x in range(1,50)]\n",
    "print(res)\n",
    "result = [x**2 for x in range(1,20)]\n",
    "print(result)"
   ]
  },
  {
   "cell_type": "code",
   "execution_count": 30,
   "id": "1e8738cd-6079-4eb0-a300-107a57a526d5",
   "metadata": {},
   "outputs": [
    {
     "name": "stdout",
     "output_type": "stream",
     "text": [
      "True\n"
     ]
    }
   ],
   "source": [
    "x=\"madam\" \n",
    "if(x==x[::-1]):\n",
    "    print(\"True\")\n",
    "else:\n",
    "    print(\"False\")\n"
   ]
  },
  {
   "cell_type": "code",
   "execution_count": 46,
   "id": "1c2cd2c3-6bca-4cff-bb7e-7c068973b500",
   "metadata": {},
   "outputs": [
    {
     "data": {
      "text/plain": [
       "['madam', 'radar']"
      ]
     },
     "execution_count": 46,
     "metadata": {},
     "output_type": "execute_result"
    }
   ],
   "source": [
    "#palindrome\n",
    "a= [\"madam\",\"radar\",\"xyz\"]\n",
    "res= [i for i in a if (i==i[::-1])]\n",
    "res\n"
   ]
  },
  {
   "cell_type": "code",
   "execution_count": 50,
   "id": "f2417342-1504-43c9-8cb6-48fc32db376e",
   "metadata": {},
   "outputs": [
    {
     "data": {
      "text/plain": [
       "[2, 3, 4, 6]"
      ]
     },
     "execution_count": 50,
     "metadata": {},
     "output_type": "execute_result"
    }
   ],
   "source": [
    "lists = [1,2,3,4,6]\n",
    "list2 = [2,3,4,5,6]\n",
    "res=[i for i in lists if i in list2]\n",
    "res"
   ]
  },
  {
   "cell_type": "code",
   "execution_count": 52,
   "id": "36b14ba9-1188-47e4-b6ea-ff3a9fa5c86a",
   "metadata": {},
   "outputs": [
    {
     "data": {
      "text/plain": [
       "[1]"
      ]
     },
     "execution_count": 52,
     "metadata": {},
     "output_type": "execute_result"
    }
   ],
   "source": [
    "lists = [1,2,3,4,6]\n",
    "list2 = [2,3,4,5,6]\n",
    "res=[i for i in lists if i not in list2]\n",
    "res"
   ]
  },
  {
   "cell_type": "code",
   "execution_count": 54,
   "id": "d6ff0f3f-e2c1-47e5-96d6-c60f17e20d30",
   "metadata": {},
   "outputs": [
    {
     "data": {
      "text/plain": [
       "[]"
      ]
     },
     "execution_count": 54,
     "metadata": {},
     "output_type": "execute_result"
    }
   ],
   "source": [
    "lists = [1,2,3,4,6]\n",
    "list2 = [7,8,9,0,10]\n",
    "res=[i for i in lists if i in list2]\n",
    "res"
   ]
  },
  {
   "cell_type": "code",
   "execution_count": 1,
   "id": "fd5196a4-9a85-40b9-8a69-692d1850d23d",
   "metadata": {},
   "outputs": [
    {
     "name": "stdout",
     "output_type": "stream",
     "text": [
      "<function <lambda> at 0x00000214CF5494E0>\n",
      "15\n"
     ]
    }
   ],
   "source": [
    "#Functions\n",
    "#Lamda functions\n",
    "#c. Nested Functions\n",
    "#Decarators\n",
    "\n",
    "square = lambda x:x**2 in range(1,10)\n",
    "print(square)\n",
    "\n",
    "def calculator(a, b, operation):\n",
    "    if operation == \"add\":\n",
    "        return a + b\n",
    "    elif operation == \"subtract\":\n",
    "        return a - b\n",
    "    elif operation == \"multiply\":\n",
    "        return a * b\n",
    "    elif operation == \"divide\":\n",
    "        return a / b\n",
    "    else:\n",
    "        return \"Invalid operation\"\n",
    "\n",
    "print(calculator(10, 5, \"add\"))  # Output: 15"
   ]
  },
  {
   "cell_type": "code",
   "execution_count": 1,
   "id": "509231ae-2e4a-4578-bb23-7aee145e252c",
   "metadata": {},
   "outputs": [
    {
     "data": {
      "text/plain": [
       "[4, 5]"
      ]
     },
     "execution_count": 1,
     "metadata": {},
     "output_type": "execute_result"
    }
   ],
   "source": [
    "lis1 = [1,2,3,4,5]\n",
    "lis2 = lis1[3:6]\n",
    "lis2"
   ]
  },
  {
   "cell_type": "code",
   "execution_count": 9,
   "id": "fd1b8144-0cac-497d-8a2a-7c4c4ce5651c",
   "metadata": {},
   "outputs": [
    {
     "name": "stdout",
     "output_type": "stream",
     "text": [
      "[4, 5]\n",
      "<list_iterator object at 0x0000027D187365F0>\n"
     ]
    }
   ],
   "source": [
    "lis1 = [1,2,3,4,5]\n",
    "lis2 = lis1[3:6]\n",
    "print(lis2)\n",
    "iterate_var = iter(lis1)\n",
    "print(iterate_var)\n"
   ]
  },
  {
   "cell_type": "code",
   "execution_count": 11,
   "id": "b99804c9-7472-4ab5-a0ac-ae89f1fac45d",
   "metadata": {},
   "outputs": [],
   "source": [
    "for i in iterate_var:\n",
    "    if i > 5:  \n",
    "        print(i + 1)  \n"
   ]
  },
  {
   "cell_type": "code",
   "execution_count": 40,
   "id": "0d81c137-f1c0-4f96-a694-1c9108828f61",
   "metadata": {},
   "outputs": [
    {
     "name": "stdout",
     "output_type": "stream",
     "text": [
      "12\n"
     ]
    }
   ],
   "source": [
    "def square (i):\n",
    "    for i in range(i):\n",
    "        i=i+2\n",
    "    return i\n",
    "res = square(11)\n",
    "print(res)"
   ]
  },
  {
   "cell_type": "code",
   "execution_count": 46,
   "id": "d8a41c4c-36c0-41f8-95ce-62765ac6d4ac",
   "metadata": {},
   "outputs": [
    {
     "name": "stdout",
     "output_type": "stream",
     "text": [
      "2\n",
      "3\n",
      "4\n",
      "5\n",
      "6\n",
      "7\n",
      "8\n",
      "9\n",
      "10\n",
      "11\n"
     ]
    }
   ],
   "source": [
    "def square (i):\n",
    "    for i in range(i):\n",
    "        i = i+2\n",
    "        yield i\n",
    "square(10)\n",
    "for i in square(10):\n",
    "    print(i)"
   ]
  },
  {
   "cell_type": "code",
   "execution_count": 56,
   "id": "f2e6118e-ada0-4ce9-9aa5-83164eef7db6",
   "metadata": {},
   "outputs": [
    {
     "name": "stdout",
     "output_type": "stream",
     "text": [
      "0\n",
      "1\n",
      "2\n",
      "3\n",
      "4\n",
      "5\n",
      "36\n",
      "49\n",
      "64\n",
      "81\n"
     ]
    }
   ],
   "source": [
    "def square (i):\n",
    "    for i in range(i):\n",
    "        if i>5:\n",
    "            i = i**2\n",
    "        yield i\n",
    "square(10)\n",
    "for i in square(10):\n",
    "    print(i)"
   ]
  },
  {
   "cell_type": "code",
   "execution_count": 68,
   "id": "75a0b3c8-d257-48cf-8f4e-16157de91d8c",
   "metadata": {},
   "outputs": [
    {
     "name": "stdout",
     "output_type": "stream",
     "text": [
      "30\n"
     ]
    }
   ],
   "source": [
    "result = lambda x,y:x+y\n",
    "print(result(10,20))"
   ]
  },
  {
   "cell_type": "code",
   "execution_count": 72,
   "id": "20658012-9bce-4964-8d09-88e47c066500",
   "metadata": {},
   "outputs": [
    {
     "name": "stdout",
     "output_type": "stream",
     "text": [
      "HELLO\n"
     ]
    }
   ],
   "source": [
    "def sample(func):\n",
    "    def wrapper(item):\n",
    "        item = item.upper()\n",
    "        return func(item)\n",
    "    return wrapper \n",
    "\n",
    "@sample\n",
    "def process(item):\n",
    "    return item \n",
    "result = process\n",
    "print(result(\"hello\"))"
   ]
  },
  {
   "cell_type": "code",
   "execution_count": 7,
   "id": "7f435f49-3269-4f81-a976-0f502806cd24",
   "metadata": {},
   "outputs": [
    {
     "name": "stdout",
     "output_type": "stream",
     "text": [
      "{'mobile_usage': [1, 2, 5], 'name': ['bhavagna', 'sudharshan', 'sirikonda'], 'reg_no': [626, 627, 666]}\n",
      "   mobile_usage        name  reg_no\n",
      "0             1    bhavagna     626\n",
      "1             2  sudharshan     627\n",
      "2             5   sirikonda     666\n",
      "   mobile_usage        name  reg_no\n",
      "0             1    bhavagna     626\n",
      "1             2  sudharshan     627\n",
      "2             5   sirikonda     666\n"
     ]
    }
   ],
   "source": [
    "import pandas as pd \n",
    "mobile_usage =[1,2,5]\n",
    "name = [\"bhavagna\",\"sudharshan\",\"sirikonda\"]\n",
    "reg_no = [626,627,666]\n",
    "dict1 = {\"mobile_usage\":mobile_usage,\"name\":name,\"reg_no\":reg_no}\n",
    "print(dict1)\n",
    "df = pd.DataFrame(dict1)\n",
    "print(df)\n",
    "df.head(5)\n",
    "df.tail(5)\n",
    "print(df)\n",
    "\n",
    "\n"
   ]
  },
  {
   "cell_type": "code",
   "execution_count": 5,
   "id": "accb35bd-2d8b-4f3b-b9a4-537b46fa34af",
   "metadata": {},
   "outputs": [
    {
     "name": "stdout",
     "output_type": "stream",
     "text": [
      "   product_id product_name  discount_percentage\n",
      "0         101    Product_1                    5\n",
      "1         102    Product_2                    6\n",
      "2         103    Product_3                    7\n",
      "3         104    Product_4                    8\n",
      "4         105    Product_5                    9\n"
     ]
    }
   ],
   "source": [
    "import pandas as pd  \n",
    "\n",
    "product_id = list(range(101, 121))  \n",
    "product_name = [f\"Product_{i}\" for i in range(1, 21)]  \n",
    "discount_percentage = [i % 10 + 5 for i in range(20)]  # Varying discount values  \n",
    "\n",
    "\n",
    "product_data = {  \n",
    "    \"product_id\": product_id,  \n",
    "    \"product_name\": product_name,  \n",
    "    \"discount_percentage\": discount_percentage  \n",
    "}  \n",
    "\n",
    " \n",
    "df = pd.DataFrame(product_data)  \n",
    "\n",
    " \n",
    "print(df.head(5))"
   ]
  },
  {
   "cell_type": "code",
   "execution_count": 25,
   "id": "a6550c08-27fb-41e8-a036-1efa35eae6fc",
   "metadata": {},
   "outputs": [
    {
     "data": {
      "text/plain": [
       "0.5"
      ]
     },
     "execution_count": 25,
     "metadata": {},
     "output_type": "execute_result"
    }
   ],
   "source": [
    "def dev_dec(func):\n",
    "    def inner(a,b):\n",
    "        if a < b:\n",
    "            a,b = b,a\n",
    "            return inner\n",
    "    \n",
    "def div(a,b):\n",
    "    return a/b \n",
    "div(2,4)\n"
   ]
  },
  {
   "cell_type": "code",
   "execution_count": 27,
   "id": "cecb3212-039b-451f-af29-9e8251726c15",
   "metadata": {},
   "outputs": [
    {
     "name": "stdout",
     "output_type": "stream",
     "text": [
      "2.0\n"
     ]
    }
   ],
   "source": [
    "def dev_dec(func):\n",
    "    def inner(a, b):\n",
    "        if a < b:\n",
    "            a, b = b, a\n",
    "        return func(a, b)  \n",
    "    return inner  \n",
    "\n",
    "@dev_dec\n",
    "def div(a, b):\n",
    "    return a / b \n",
    "\n",
    "print(div(2,4)) "
   ]
  },
  {
   "cell_type": "code",
   "execution_count": 45,
   "id": "1d08fc59-1628-40b0-93a0-7c5ca720db94",
   "metadata": {},
   "outputs": [
    {
     "name": "stdout",
     "output_type": "stream",
     "text": [
      "Error: cannot divide by zero\n",
      "None\n",
      "0.3333333333333333\n"
     ]
    }
   ],
   "source": [
    "def division(func):\n",
    "    def inn(a,c):\n",
    "        if c == 0:\n",
    "            print(\"Error: cannot divide by zero\")\n",
    "            return \n",
    "        if a > c:\n",
    "            a , c = c , a\n",
    "        return func(a, c)\n",
    "    return inn\n",
    "@division\n",
    "def div(a,c):\n",
    "    return a / c\n",
    "print(div(2,0))\n",
    "print(div(2,6))\n",
    "\n"
   ]
  },
  {
   "cell_type": "code",
   "execution_count": 1,
   "id": "70dcfcb9-e1b9-4d7b-ba4b-115baf513f92",
   "metadata": {},
   "outputs": [
    {
     "name": "stdout",
     "output_type": "stream",
     "text": [
      "0\n",
      "12\n",
      "1.0\n"
     ]
    }
   ],
   "source": [
    "def operation_check(func):\n",
    "    def inner(a, c):\n",
    "        if a * c > 20:\n",
    "            if c == 0:\n",
    "                print(\"Error: Cannot divide by zero\")\n",
    "                return None\n",
    "            return func(a, c) \n",
    "        return a * c \n",
    "    return inner\n",
    "\n",
    "@operation_check\n",
    "def div(a, c):\n",
    "    return a / c\n",
    "\n",
    "print(div(2, 0))  \n",
    "print(div(2, 6))   \n",
    "print(div(5, 5))   \n"
   ]
  },
  {
   "cell_type": "markdown",
   "id": "64c4983f-f461-47e0-bd36-487c124ac717",
   "metadata": {},
   "source": [
    "# strings"
   ]
  },
  {
   "cell_type": "code",
   "execution_count": 4,
   "id": "4973b9e3-98a7-42a4-8490-e9d206124d20",
   "metadata": {},
   "outputs": [
    {
     "name": "stdout",
     "output_type": "stream",
     "text": [
      "do\n",
      "what\n",
      "to\n"
     ]
    }
   ],
   "source": [
    "string = \"do what i say to the world\"\n",
    "for word in string.split():\n",
    "    if len(word) % 2 == 0:\n",
    "        print(word)\n",
    "\n",
    "#find the length of the string if the length of the string is more thsn 3 print the firt letter of the word output :w"
   ]
  },
  {
   "cell_type": "code",
   "execution_count": 18,
   "id": "c1adcb71-3eec-4e12-bf42-1b1df3c7fb45",
   "metadata": {},
   "outputs": [
    {
     "name": "stdout",
     "output_type": "stream",
     "text": [
      "do\n",
      "what\n",
      "to\n",
      "w\n",
      "w\n"
     ]
    }
   ],
   "source": [
    "string = \"do what i say to the world\"\n",
    "\n",
    "for word in string.split():\n",
    "    if len(word) % 2 == 0:\n",
    "        print(word)\n",
    "\n",
    "\n",
    "for word in string.split():\n",
    "    if len(word) > 3:\n",
    "        print(word[0])\n"
   ]
  },
  {
   "cell_type": "code",
   "execution_count": 16,
   "id": "1ee3754d-2fe3-43cb-a5e7-9fd8823c958d",
   "metadata": {},
   "outputs": [
    {
     "data": {
      "text/plain": [
       "['do what i say to the world']"
      ]
     },
     "execution_count": 16,
     "metadata": {},
     "output_type": "execute_result"
    }
   ],
   "source": [
    "string = \"do what i say to the world\" \n",
    "list1=list([string])\n",
    "list1\n"
   ]
  },
  {
   "cell_type": "code",
   "execution_count": 4,
   "id": "67b6b9ca-725a-40ed-8641-1bc021460f79",
   "metadata": {},
   "outputs": [
    {
     "name": "stdout",
     "output_type": "stream",
     "text": [
      "['going', 'start']\n"
     ]
    }
   ],
   "source": [
    "string = \"session is going to start\"\n",
    "result = [word for word in string.split() if len(word) == 5]\n",
    "print(result)\n",
    "#convert string into list in such a way that only 5 letter words should be there in the code "
   ]
  },
  {
   "cell_type": "code",
   "execution_count": 12,
   "id": "d35d7769-62d2-44b3-9758-057fc2add022",
   "metadata": {},
   "outputs": [
    {
     "name": "stdout",
     "output_type": "stream",
     "text": [
      "Reversed String: !dlroW ,olleH\n",
      "1\n",
      "2\n",
      "bizz\n",
      "4\n",
      "bigg\n",
      "bizz\n",
      "7\n",
      "8\n",
      "bizz\n",
      "bigg\n",
      "11\n",
      "bizz\n",
      "13\n",
      "14\n",
      "bigg buzz\n",
      "16\n",
      "17\n",
      "bizz\n"
     ]
    }
   ],
   "source": [
    "\n",
    "string = \"Hello, World!\"\n",
    "reversed_string = string[::-1]\n",
    "print(\"Reversed String:\", reversed_string)\n",
    "\n",
    "\n",
    "for i in range(1, 19):\n",
    "    if i % 3 == 0 and i % 5 == 0:\n",
    "        print(\"bigg buzz\")\n",
    "    elif i % 3 == 0:\n",
    "        print(\"bizz\")\n",
    "    elif i % 5 == 0:\n",
    "        print(\"bigg\")\n",
    "    else:\n",
    "        print(i)\n"
   ]
  },
  {
   "cell_type": "code",
   "execution_count": 1,
   "id": "76078c23-d492-4351-87c3-2b8911907005",
   "metadata": {},
   "outputs": [
    {
     "data": {
      "text/html": [
       "<div>\n",
       "<style scoped>\n",
       "    .dataframe tbody tr th:only-of-type {\n",
       "        vertical-align: middle;\n",
       "    }\n",
       "\n",
       "    .dataframe tbody tr th {\n",
       "        vertical-align: top;\n",
       "    }\n",
       "\n",
       "    .dataframe thead th {\n",
       "        text-align: right;\n",
       "    }\n",
       "</style>\n",
       "<table border=\"1\" class=\"dataframe\">\n",
       "  <thead>\n",
       "    <tr style=\"text-align: right;\">\n",
       "      <th></th>\n",
       "      <th>tranID</th>\n",
       "      <th>custID</th>\n",
       "      <th>Amount</th>\n",
       "      <th>Date</th>\n",
       "    </tr>\n",
       "  </thead>\n",
       "  <tbody>\n",
       "    <tr>\n",
       "      <th>0</th>\n",
       "      <td>1</td>\n",
       "      <td>101</td>\n",
       "      <td>100</td>\n",
       "      <td>12-1-24</td>\n",
       "    </tr>\n",
       "    <tr>\n",
       "      <th>1</th>\n",
       "      <td>2</td>\n",
       "      <td>102</td>\n",
       "      <td>200</td>\n",
       "      <td>12-2-24</td>\n",
       "    </tr>\n",
       "    <tr>\n",
       "      <th>2</th>\n",
       "      <td>3</td>\n",
       "      <td>103</td>\n",
       "      <td>300</td>\n",
       "      <td>12-3-24</td>\n",
       "    </tr>\n",
       "    <tr>\n",
       "      <th>3</th>\n",
       "      <td>4</td>\n",
       "      <td>104</td>\n",
       "      <td>400</td>\n",
       "      <td>12-4-24</td>\n",
       "    </tr>\n",
       "  </tbody>\n",
       "</table>\n",
       "</div>"
      ],
      "text/plain": [
       "   tranID  custID  Amount     Date\n",
       "0       1     101     100  12-1-24\n",
       "1       2     102     200  12-2-24\n",
       "2       3     103     300  12-3-24\n",
       "3       4     104     400  12-4-24"
      ]
     },
     "execution_count": 1,
     "metadata": {},
     "output_type": "execute_result"
    }
   ],
   "source": [
    "import pandas as pd\n",
    "\n",
    "sales_data = {\n",
    "    'tranID': [1,2,3,4],\n",
    "    'custID': [101,102,103,104],\n",
    "    'Amount': [100,200,300,400],\n",
    "    'Date': ['12-1-24','12-2-24','12-3-24','12-4-24']\n",
    "}\n",
    "\n",
    "customer_data = {\n",
    "    'custID':[101,102,103,104],\n",
    "    'customerName':['sudha','bhavagna','shiva','snehith'],\n",
    "    'Age': [19,20,21,22],\n",
    "    'City': ['ts','ap','bihar','tamilnadu']\n",
    "}\n",
    "\n",
    "sales_df = pd.DataFrame(sales_data)\n",
    "customers_df = pd.DataFrame(customer_data)\n",
    "sales_df.head()"
   ]
  },
  {
   "cell_type": "code",
   "execution_count": 3,
   "id": "8191bfe0-a7bf-4635-aa12-5bcc60377155",
   "metadata": {},
   "outputs": [
    {
     "data": {
      "text/html": [
       "<div>\n",
       "<style scoped>\n",
       "    .dataframe tbody tr th:only-of-type {\n",
       "        vertical-align: middle;\n",
       "    }\n",
       "\n",
       "    .dataframe tbody tr th {\n",
       "        vertical-align: top;\n",
       "    }\n",
       "\n",
       "    .dataframe thead th {\n",
       "        text-align: right;\n",
       "    }\n",
       "</style>\n",
       "<table border=\"1\" class=\"dataframe\">\n",
       "  <thead>\n",
       "    <tr style=\"text-align: right;\">\n",
       "      <th></th>\n",
       "      <th>custID</th>\n",
       "      <th>customerName</th>\n",
       "      <th>Age</th>\n",
       "      <th>City</th>\n",
       "    </tr>\n",
       "  </thead>\n",
       "  <tbody>\n",
       "    <tr>\n",
       "      <th>0</th>\n",
       "      <td>101</td>\n",
       "      <td>sudha</td>\n",
       "      <td>19</td>\n",
       "      <td>ts</td>\n",
       "    </tr>\n",
       "    <tr>\n",
       "      <th>1</th>\n",
       "      <td>102</td>\n",
       "      <td>bhavagna</td>\n",
       "      <td>20</td>\n",
       "      <td>ap</td>\n",
       "    </tr>\n",
       "    <tr>\n",
       "      <th>2</th>\n",
       "      <td>103</td>\n",
       "      <td>shiva</td>\n",
       "      <td>21</td>\n",
       "      <td>bihar</td>\n",
       "    </tr>\n",
       "    <tr>\n",
       "      <th>3</th>\n",
       "      <td>104</td>\n",
       "      <td>snehith</td>\n",
       "      <td>22</td>\n",
       "      <td>tamilnadu</td>\n",
       "    </tr>\n",
       "  </tbody>\n",
       "</table>\n",
       "</div>"
      ],
      "text/plain": [
       "   custID customerName  Age       City\n",
       "0     101        sudha   19         ts\n",
       "1     102     bhavagna   20         ap\n",
       "2     103        shiva   21      bihar\n",
       "3     104      snehith   22  tamilnadu"
      ]
     },
     "execution_count": 3,
     "metadata": {},
     "output_type": "execute_result"
    }
   ],
   "source": [
    "customers_df.head()"
   ]
  },
  {
   "cell_type": "code",
   "execution_count": 7,
   "id": "0052cd5d-8f00-4ddf-b294-1858d1cd2dce",
   "metadata": {},
   "outputs": [
    {
     "data": {
      "text/plain": [
       "(4, 4)"
      ]
     },
     "execution_count": 7,
     "metadata": {},
     "output_type": "execute_result"
    }
   ],
   "source": [
    "sales_df.shape"
   ]
  },
  {
   "cell_type": "code",
   "execution_count": 29,
   "id": "57f4d144-d4bc-4468-8a44-76c80aab9fd2",
   "metadata": {},
   "outputs": [
    {
     "data": {
      "text/html": [
       "<div>\n",
       "<style scoped>\n",
       "    .dataframe tbody tr th:only-of-type {\n",
       "        vertical-align: middle;\n",
       "    }\n",
       "\n",
       "    .dataframe tbody tr th {\n",
       "        vertical-align: top;\n",
       "    }\n",
       "\n",
       "    .dataframe thead th {\n",
       "        text-align: right;\n",
       "    }\n",
       "</style>\n",
       "<table border=\"1\" class=\"dataframe\">\n",
       "  <thead>\n",
       "    <tr style=\"text-align: right;\">\n",
       "      <th></th>\n",
       "      <th>tranID</th>\n",
       "      <th>customerName</th>\n",
       "      <th>City</th>\n",
       "    </tr>\n",
       "  </thead>\n",
       "  <tbody>\n",
       "    <tr>\n",
       "      <th>0</th>\n",
       "      <td>1</td>\n",
       "      <td>sudha</td>\n",
       "      <td>ts</td>\n",
       "    </tr>\n",
       "    <tr>\n",
       "      <th>1</th>\n",
       "      <td>2</td>\n",
       "      <td>bhavagna</td>\n",
       "      <td>ap</td>\n",
       "    </tr>\n",
       "    <tr>\n",
       "      <th>2</th>\n",
       "      <td>3</td>\n",
       "      <td>shiva</td>\n",
       "      <td>bihar</td>\n",
       "    </tr>\n",
       "    <tr>\n",
       "      <th>3</th>\n",
       "      <td>4</td>\n",
       "      <td>snehith</td>\n",
       "      <td>tamilnadu</td>\n",
       "    </tr>\n",
       "  </tbody>\n",
       "</table>\n",
       "</div>"
      ],
      "text/plain": [
       "   tranID customerName       City\n",
       "0       1        sudha         ts\n",
       "1       2     bhavagna         ap\n",
       "2       3        shiva      bihar\n",
       "3       4      snehith  tamilnadu"
      ]
     },
     "execution_count": 29,
     "metadata": {},
     "output_type": "execute_result"
    }
   ],
   "source": [
    "\n",
    "merged_df = pd.merge(sales_df, customers_df[['custID', 'customerName', 'City']], on='custID', how='left')\n",
    "merged_df = pd.merge(sales_df, customers_df[['custID', 'customerName', 'City']], on='custID', how='right')\n",
    "merged_df = pd.merge(sales_df, customers_df[['custID', 'customerName', 'City']], on='custID', how='outer')  \n",
    "\n",
    "merged_df[['tranID', 'customerName', 'City']]\n"
   ]
  },
  {
   "cell_type": "code",
   "execution_count": 19,
   "id": "fa761b94-51e2-4e22-9581-e89ce74a18c1",
   "metadata": {},
   "outputs": [
    {
     "name": "stdout",
     "output_type": "stream",
     "text": [
      "   tranID  custID  Amount     Date customerName       City\n",
      "0       1     101     100  12-1-24        sudha         ts\n",
      "1       2     102     200  12-2-24     bhavagna         ap\n",
      "2       3     103     300  12-3-24        shiva      bihar\n",
      "3       4     104     400  12-4-24      snehith  tamilnadu\n"
     ]
    }
   ],
   "source": [
    "# display customer ids with amount > 400\n",
    "\n",
    "print(merged_df)"
   ]
  },
  {
   "cell_type": "code",
   "execution_count": 31,
   "id": "3c9e96c4-cf88-4d49-b34d-166d2acc98ff",
   "metadata": {},
   "outputs": [],
   "source": [
    "merged_df = pd.merge(sales_df, customers_df[['custID', 'customerName', 'City']], on='custID', how='right')\n"
   ]
  },
  {
   "cell_type": "code",
   "execution_count": 33,
   "id": "1e4a400f-ee2c-49b1-9e3d-aa92dfcb71bc",
   "metadata": {},
   "outputs": [
    {
     "data": {
      "text/html": [
       "<div>\n",
       "<style scoped>\n",
       "    .dataframe tbody tr th:only-of-type {\n",
       "        vertical-align: middle;\n",
       "    }\n",
       "\n",
       "    .dataframe tbody tr th {\n",
       "        vertical-align: top;\n",
       "    }\n",
       "\n",
       "    .dataframe thead th {\n",
       "        text-align: right;\n",
       "    }\n",
       "</style>\n",
       "<table border=\"1\" class=\"dataframe\">\n",
       "  <thead>\n",
       "    <tr style=\"text-align: right;\">\n",
       "      <th></th>\n",
       "      <th>tranID</th>\n",
       "      <th>custID</th>\n",
       "      <th>Amount</th>\n",
       "      <th>Date</th>\n",
       "      <th>customerName</th>\n",
       "      <th>City</th>\n",
       "    </tr>\n",
       "  </thead>\n",
       "  <tbody>\n",
       "    <tr>\n",
       "      <th>0</th>\n",
       "      <td>1</td>\n",
       "      <td>101</td>\n",
       "      <td>100</td>\n",
       "      <td>12-1-24</td>\n",
       "      <td>sudha</td>\n",
       "      <td>ts</td>\n",
       "    </tr>\n",
       "    <tr>\n",
       "      <th>1</th>\n",
       "      <td>2</td>\n",
       "      <td>102</td>\n",
       "      <td>200</td>\n",
       "      <td>12-2-24</td>\n",
       "      <td>bhavagna</td>\n",
       "      <td>ap</td>\n",
       "    </tr>\n",
       "    <tr>\n",
       "      <th>2</th>\n",
       "      <td>3</td>\n",
       "      <td>103</td>\n",
       "      <td>300</td>\n",
       "      <td>12-3-24</td>\n",
       "      <td>shiva</td>\n",
       "      <td>bihar</td>\n",
       "    </tr>\n",
       "    <tr>\n",
       "      <th>3</th>\n",
       "      <td>4</td>\n",
       "      <td>104</td>\n",
       "      <td>400</td>\n",
       "      <td>12-4-24</td>\n",
       "      <td>snehith</td>\n",
       "      <td>tamilnadu</td>\n",
       "    </tr>\n",
       "  </tbody>\n",
       "</table>\n",
       "</div>"
      ],
      "text/plain": [
       "   tranID  custID  Amount     Date customerName       City\n",
       "0       1     101     100  12-1-24        sudha         ts\n",
       "1       2     102     200  12-2-24     bhavagna         ap\n",
       "2       3     103     300  12-3-24        shiva      bihar\n",
       "3       4     104     400  12-4-24      snehith  tamilnadu"
      ]
     },
     "execution_count": 33,
     "metadata": {},
     "output_type": "execute_result"
    }
   ],
   "source": [
    "merged_df"
   ]
  },
  {
   "cell_type": "code",
   "execution_count": 37,
   "id": "af9643f2-c8ff-4e52-88bf-5d80bd8ad5e7",
   "metadata": {},
   "outputs": [
    {
     "data": {
      "text/html": [
       "<div>\n",
       "<style scoped>\n",
       "    .dataframe tbody tr th:only-of-type {\n",
       "        vertical-align: middle;\n",
       "    }\n",
       "\n",
       "    .dataframe tbody tr th {\n",
       "        vertical-align: top;\n",
       "    }\n",
       "\n",
       "    .dataframe thead th {\n",
       "        text-align: right;\n",
       "    }\n",
       "</style>\n",
       "<table border=\"1\" class=\"dataframe\">\n",
       "  <thead>\n",
       "    <tr style=\"text-align: right;\">\n",
       "      <th></th>\n",
       "      <th>tranID</th>\n",
       "      <th>custID</th>\n",
       "      <th>Amount</th>\n",
       "      <th>Date</th>\n",
       "      <th>customerName</th>\n",
       "      <th>City</th>\n",
       "    </tr>\n",
       "  </thead>\n",
       "  <tbody>\n",
       "    <tr>\n",
       "      <th>0</th>\n",
       "      <td>1</td>\n",
       "      <td>101</td>\n",
       "      <td>100</td>\n",
       "      <td>12-1-24</td>\n",
       "      <td>sudha</td>\n",
       "      <td>ts</td>\n",
       "    </tr>\n",
       "    <tr>\n",
       "      <th>1</th>\n",
       "      <td>2</td>\n",
       "      <td>102</td>\n",
       "      <td>200</td>\n",
       "      <td>12-2-24</td>\n",
       "      <td>bhavagna</td>\n",
       "      <td>ap</td>\n",
       "    </tr>\n",
       "    <tr>\n",
       "      <th>2</th>\n",
       "      <td>3</td>\n",
       "      <td>103</td>\n",
       "      <td>300</td>\n",
       "      <td>12-3-24</td>\n",
       "      <td>shiva</td>\n",
       "      <td>bihar</td>\n",
       "    </tr>\n",
       "    <tr>\n",
       "      <th>3</th>\n",
       "      <td>4</td>\n",
       "      <td>104</td>\n",
       "      <td>400</td>\n",
       "      <td>12-4-24</td>\n",
       "      <td>snehith</td>\n",
       "      <td>tamilnadu</td>\n",
       "    </tr>\n",
       "  </tbody>\n",
       "</table>\n",
       "</div>"
      ],
      "text/plain": [
       "   tranID  custID  Amount     Date customerName       City\n",
       "0       1     101     100  12-1-24        sudha         ts\n",
       "1       2     102     200  12-2-24     bhavagna         ap\n",
       "2       3     103     300  12-3-24        shiva      bihar\n",
       "3       4     104     400  12-4-24      snehith  tamilnadu"
      ]
     },
     "execution_count": 37,
     "metadata": {},
     "output_type": "execute_result"
    }
   ],
   "source": [
    "merged_df = pd.merge(sales_df, customers_df[['custID', 'customerName', 'City']], on='custID', how='left') \n",
    "merged_df"
   ]
  },
  {
   "cell_type": "markdown",
   "id": "9facf6c8-9b42-4892-bbbe-77b14742b4be",
   "metadata": {},
   "source": [
    "#Histrogram"
   ]
  },
  {
   "cell_type": "code",
   "execution_count": 4,
   "id": "634724d6-0e3b-4439-8a5f-e864fd256825",
   "metadata": {},
   "outputs": [
    {
     "data": {
      "image/png": "[encoded data removed]",
      "text/plain": [
       "<Figure size 640x480 with 1 Axes>"
      ]
     },
     "metadata": {},
     "output_type": "display_data"
    }
   ],
   "source": [
    "import matplotlib.pyplot as pit\n",
    "data = [5,7,7,8,9,10,10,10,11,12,11,11]\n",
    "pit.hist(data,bins=10,edgecolor='black')\n",
    "pit.title('simple Histogram Example')\n",
    "pit.xlabel('Numbers')\n",
    "pit.ylabel('Count')\n",
    "pit.show()\n"
   ]
  },
  {
   "cell_type": "code",
   "execution_count": 12,
   "id": "adb9e08d-3033-428f-8981-9f19111f30ac",
   "metadata": {},
   "outputs": [
    {
     "data": {
      "image/png": "[encoded data removed]",
      "text/plain": [
       "<Figure size 640x480 with 1 Axes>"
      ]
     },
     "metadata": {},
     "output_type": "display_data"
    }
   ],
   "source": [
    "import pandas as pd \n",
    "import matplotlib.pyplot as plt \n",
    "import seaborn as sns\n",
    "datf = pd.DataFrame({\"Season 1\":[7,7,5,5,6,3],\n",
    "                     \"Season 2\": [1,2,8,4,9,8]})\n",
    "p= sns.histplot(data = datf)\n",
    "p.set(xlabel=\"X Label value\", ylabel = \"Y Label value\")\n",
    "pit.show()"
   ]
  },
  {
   "cell_type": "code",
   "execution_count": 22,
   "id": "5c694890-549e-469e-8fb9-cdd4ee2ca240",
   "metadata": {},
   "outputs": [
    {
     "data": {
      "image/png": "[encoded data removed]",
      "text/plain": [
       "<Figure size 640x480 with 1 Axes>"
      ]
     },
     "metadata": {},
     "output_type": "display_data"
    }
   ],
   "source": [
    "import pandas as pd\n",
    "import matplotlib.pyplot as plt\n",
    "import seaborn as sns\n",
    "datf = pd.DataFrame({\"Season 1\": [7, 7, 5, 5, 6, 3],\n",
    "                     \"Season 2\": [1, 2, 8, 4, 9, 8]})\n",
    "p = sns.histplot(data=datf, kde=False, palette=\"pastel\", multiple=\"stack\")\n",
    "p.set(xlabel=\"X Label value\", ylabel=\"Y Label value\")\n",
    "\n",
    "plt.show()\n"
   ]
  },
  {
   "cell_type": "code",
   "execution_count": 32,
   "id": "a90e8155-0ae1-4f7c-9feb-a29445a982c1",
   "metadata": {},
   "outputs": [
    {
     "data": {
      "image/png": "[encoded data removed]",
      "text/plain": [
       "<Figure size 640x480 with 1 Axes>"
      ]
     },
     "metadata": {},
     "output_type": "display_data"
    }
   ],
   "source": [
    "import matplotlib.pyplot as pit\n",
    "import numpy as np\n",
    "np.random.seed(42)\n",
    "data = np.random.randint(20,82,1000)\n",
    "pit.hist(data, bins=15, edgecolor='black',color='skyblue')\n",
    "pit.title('Histogram of cancer patients Age Distribution')\n",
    "pit.xlabel('Age')\n",
    "pit.ylabel('Number of patients')\n",
    "plt.show()"
   ]
  },
  {
   "cell_type": "code",
   "execution_count": 17,
   "id": "1fcbcd53-a066-4dd7-a808-3ec86aed3c80",
   "metadata": {},
   "outputs": [
    {
     "name": "stdout",
     "output_type": "stream",
     "text": [
      "Original DataFrame:\n",
      "   square_foot_area  Year_built  over_all_condition ready_to_move  Sale_price\n",
      "0            8500.0      2003.0                 5.0           Yes      200000\n",
      "1            9600.0      1976.0                 8.0            No      180000\n",
      "2               NaN      2001.0                 6.0            NO      215000\n",
      "3           11250.0         NaN                 7.0           NaN      250000\n",
      "4               NaN      1998.0                 NaN            No      210000\n",
      "5            9550.0      2000.0                 7.0           NaN      190020\n",
      "6           14250.0      2006.0                 8.0            No      232000\n",
      "7               NaN      1978.0                 6.0           Yes      225000\n",
      "8           13830.0      1958.0                 NaN            No      220000\n",
      "9           11500.0         NaN                 7.0           Yes      240002\n",
      "\n",
      "Missing Values Count:\n",
      "square_foot_area      3\n",
      "Year_built            2\n",
      "over_all_condition    2\n",
      "ready_to_move         2\n",
      "Sale_price            0\n",
      "dtype: int64\n",
      "\n",
      "DataFrame After Filling Missing Values:\n",
      "   square_foot_area  Year_built  over_all_condition ready_to_move  Sale_price\n",
      "0       8500.000000      2003.0                5.00           Yes      200000\n",
      "1       9600.000000      1976.0                8.00            No      180000\n",
      "2      11211.428571      2001.0                6.00            NO      215000\n",
      "3      11250.000000      1990.0                7.00           NaN      250000\n",
      "4      11211.428571      1998.0                6.75            No      210000\n",
      "5       9550.000000      2000.0                7.00           NaN      190020\n",
      "6      14250.000000      2006.0                8.00            No      232000\n",
      "7      11211.428571      1978.0                6.00           Yes      225000\n",
      "8      13830.000000      1958.0                6.75            No      220000\n",
      "9      11500.000000      1990.0                7.00           Yes      240002\n"
     ]
    }
   ],
   "source": [
    "import pandas as pd\n",
    "import numpy as np\n",
    "\n",
    "data = {\n",
    "    'square_foot_area': [8500, 9600, np.nan, 11250, np.nan, 9550, 14250, np.nan, 13830, 11500],\n",
    "    'Year_built': [2003, 1976, 2001, np.nan, 1998, 2000, 2006, 1978, 1958, np.nan],\n",
    "    'over_all_condition': [5, 8, 6, 7, np.nan, 7, 8, 6, np.nan, 7],\n",
    "    'ready_to_move': ['Yes', 'No', 'NO', np.nan, 'No', np.nan, 'No', 'Yes', 'No', 'Yes'],\n",
    "    'Sale_price': [200000, 180000, 215000, 250000, 210000, 190020, 232000, 225000, 220000, 240002]\n",
    "}\n",
    "\n",
    "df = pd.DataFrame(data)\n",
    "print(\"Original DataFrame:\")\n",
    "print(df)\n",
    "\n",
    "print(\"\\nMissing Values Count:\")\n",
    "print(df.isnull().sum())\n",
    "\n",
    "df['square_foot_area'] = df['square_foot_area'].fillna(df['square_foot_area'].mean())\n",
    "df['Year_built'] = df['Year_built'].fillna(df['Year_built'].mean())\n",
    "df['over_all_condition'] = df['over_all_condition'].fillna(df['over_all_condition'].mean())\n",
    "\n",
    "print(\"\\nDataFrame After Filling Missing Values:\")\n",
    "print(df)\n"
   ]
  },
  {
   "cell_type": "code",
   "execution_count": 28,
   "id": "fd0ee799-4c7b-4e9c-b0ca-7983a06b1d4f",
   "metadata": {},
   "outputs": [
    {
     "ename": "NameError",
     "evalue": "name 'SimpleImputer' is not defined",
     "output_type": "error",
     "traceback": [
      "\u001b[1;31m---------------------------------------------------------------------------\u001b[0m",
      "\u001b[1;31mNameError\u001b[0m                                 Traceback (most recent call last)",
      "Cell \u001b[1;32mIn[28], line 1\u001b[0m\n\u001b[1;32m----> 1\u001b[0m numeric_imputer \u001b[38;5;241m=\u001b[39m SimpleImputer(strategy\u001b[38;5;241m=\u001b[39m\u001b[38;5;124m'\u001b[39m\u001b[38;5;124mmean\u001b[39m\u001b[38;5;124m'\u001b[39m )\n\u001b[0;32m      2\u001b[0m df[[\u001b[38;5;124m'\u001b[39m\u001b[38;5;124msquare_feet_area\u001b[39m\u001b[38;5;124m'\u001b[39m , \u001b[38;5;124m'\u001b[39m\u001b[38;5;124mYear_built\u001b[39m\u001b[38;5;124m'\u001b[39m, \u001b[38;5;124m'\u001b[39m\u001b[38;5;124mover_all_condition\u001b[39m\u001b[38;5;124m'\u001b[39m ]] \u001b[38;5;241m=\u001b[39m numeric_imputer\u001b[38;5;241m.\u001b[39m fit_transform(\n\u001b[0;32m      3\u001b[0m df[[\u001b[38;5;124m'\u001b[39m\u001b[38;5;124msquare_feet_area\u001b[39m\u001b[38;5;124m'\u001b[39m, \u001b[38;5;124m'\u001b[39m\u001b[38;5;124mYear_built\u001b[39m\u001b[38;5;124m'\u001b[39m, \u001b[38;5;124m'\u001b[39m\u001b[38;5;124mover_all_condition\u001b[39m\u001b[38;5;124m'\u001b[39m ]]\n\u001b[0;32m      4\u001b[0m )\n\u001b[0;32m      5\u001b[0m categorical_imputer \u001b[38;5;241m=\u001b[39m SimpleImputer(strategy\u001b[38;5;241m=\u001b[39m\u001b[38;5;124m'\u001b[39m\u001b[38;5;124mmost_frequent\u001b[39m\u001b[38;5;124m'\u001b[39m ) \n",
      "\u001b[1;31mNameError\u001b[0m: name 'SimpleImputer' is not defined"
     ]
    }
   ],
   "source": [
    "numeric_imputer = SimpleImputer(strategy='mean' )\n",
    "df[['square_feet_area' , 'Year_built', 'over_all_condition' ]] = numeric_imputer. fit_transform(\n",
    "df[['square_feet_area', 'Year_built', 'over_all_condition' ]]\n",
    ")\n",
    "categorical_imputer = SimpleImputer(strategy='most_frequent' ) \n",
    "df[['ready_to_move' ]] = categorical_imputer. fit_transform(df[ ['ready_to_move' ]])\n",
    "print(\"\\nDataFrame after replacing missing values with SimpleImputer (mean for numeric, mode for(mean for numeric, mode for categorical):\")\n",
    "print(df)"
   ]
  },
  {
   "cell_type": "code",
   "execution_count": 30,
   "id": "34186cc2-f566-4922-ba44-fdb61cdd9031",
   "metadata": {},
   "outputs": [
    {
     "name": "stdout",
     "output_type": "stream",
     "text": [
      "\n",
      "DataFrame after replacing missing values with SimpleImputer (mean for numeric, mode for categorical):\n",
      "   square_feet_area  Year_built  over_all_condition ready_to_move  Sale_price\n",
      "0       8500.000000      2003.0                5.00           Yes      200000\n",
      "1       9600.000000      1976.0                8.00            No      180000\n",
      "2      11211.428571      2001.0                6.00            NO      215000\n",
      "3      11250.000000      1990.0                7.00            No      250000\n",
      "4      11211.428571      1998.0                6.75            No      210000\n",
      "5       9550.000000      2000.0                7.00            No      190020\n",
      "6      14250.000000      2006.0                8.00            No      232000\n",
      "7      11211.428571      1978.0                6.00           Yes      225000\n",
      "8      13830.000000      1958.0                6.75            No      220000\n",
      "9      11500.000000      1990.0                7.00           Yes      240002\n"
     ]
    }
   ],
   "source": [
    "from sklearn.impute import SimpleImputer\n",
    "import pandas as pd\n",
    "import numpy as np\n",
    "\n",
    "data = {\n",
    "    'square_feet_area': [8500, 9600, np.nan, 11250, np.nan, 9550, 14250, np.nan, 13830, 11500],\n",
    "    'Year_built': [2003, 1976, 2001, np.nan, 1998, 2000, 2006, 1978, 1958, np.nan],\n",
    "    'over_all_condition': [5, 8, 6, 7, np.nan, 7, 8, 6, np.nan, 7],\n",
    "    'ready_to_move': ['Yes', 'No', 'NO', np.nan, 'No', np.nan, 'No', 'Yes', 'No', 'Yes'],\n",
    "    'Sale_price': [200000, 180000, 215000, 250000, 210000, 190020, 232000, 225000, 220000, 240002]\n",
    "}\n",
    "\n",
    "df = pd.DataFrame(data)\n",
    "\n",
    "numeric_imputer = SimpleImputer(strategy='mean')\n",
    "df[['square_feet_area', 'Year_built', 'over_all_condition']] = numeric_imputer.fit_transform(\n",
    "    df[['square_feet_area', 'Year_built', 'over_all_condition']]\n",
    ")\n",
    "\n",
    "categorical_imputer = SimpleImputer(strategy='most_frequent')\n",
    "df[['ready_to_move']] = categorical_imputer.fit_transform(df[['ready_to_move']])\n",
    "\n",
    "\n",
    "print(\"\\nDataFrame after replacing missing values with SimpleImputer (mean for numeric, mode for categorical):\")\n",
    "print(df)\n"
   ]
  },
  {
   "cell_type": "code",
   "execution_count": null,
   "id": "6f05bba1-26aa-41ef-a4e4-91f6d0c0bdf2",
   "metadata": {},
   "outputs": [],
   "source": []
  }
 ],
 "metadata": {
  "kernelspec": {
   "display_name": "Python 3 (ipykernel)",
   "language": "python",
   "name": "python3"
  },
  "language_info": {
   "codemirror_mode": {
    "name": "ipython",
    "version": 3
   },
   "file_extension": ".py",
   "mimetype": "text/x-python",
   "name": "python",
   "nbconvert_exporter": "python",
   "pygments_lexer": "ipython3",
   "version": "3.12.7"
  }
 },
 "nbformat": 4,
 "nbformat_minor": 5
}
