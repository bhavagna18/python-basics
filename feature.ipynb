{
  "nbformat": 4,
  "nbformat_minor": 0,
  "metadata": {
    "colab": {
      "provenance": [],
      "authorship_tag": "ABX9TyP4dN2fODVa/+DwLIi1IWZ3",
      "include_colab_link": true
    },
    "kernelspec": {
      "name": "python3",
      "display_name": "Python 3"
    },
    "language_info": {
      "name": "python"
    }
  },
  "cells": [
    {
      "cell_type": "markdown",
      "metadata": {
        "id": "view-in-github",
        "colab_type": "text"
      },
      "source": [
        "<a href=\"https://colab.research.google.com/github/bhavagna18/python-basics/blob/main/feature.ipynb\" target=\"_parent\"><img src=\"https://colab.research.google.com/assets/colab-badge.svg\" alt=\"Open In Colab\"/></a>"
      ]
    },
    {
      "cell_type": "code",
      "execution_count": 4,
      "metadata": {
        "colab": {
          "base_uri": "https://localhost:8080/"
        },
        "id": "BwIhMvSLHuMF",
        "outputId": "7c7094a7-cc25-4e64-f942-9e783bbe4cdf"
      },
      "outputs": [
        {
          "output_type": "stream",
          "name": "stdout",
          "text": [
            "     preg  plas  pres  skin  test  mass   pedi  age  class\n",
            "0       6   148    72    35     0  33.6  0.627   50      1\n",
            "1       1    85    66    29     0  26.6  0.351   31      0\n",
            "2       8   183    64     0     0  23.3  0.672   32      1\n",
            "3       1    89    66    23    94  28.1  0.167   21      0\n",
            "4       0   137    40    35   168  43.1  2.288   33      1\n",
            "..    ...   ...   ...   ...   ...   ...    ...  ...    ...\n",
            "763    10   101    76    48   180  32.9  0.171   63      0\n",
            "764     2   122    70    27     0  36.8  0.340   27      0\n",
            "765     5   121    72    23   112  26.2  0.245   30      0\n",
            "766     1   126    60     0     0  30.1  0.349   47      1\n",
            "767     1    93    70    31     0  30.4  0.315   23      0\n",
            "\n",
            "[768 rows x 9 columns]\n",
            "[ 111.52  1411.887   17.605   53.108 2175.565  127.669    5.393  181.304]\n",
            "Selected features: ['preg', 'plas', 'pres', 'skin', 'test', 'mass', 'pedi', 'age']\n"
          ]
        }
      ],
      "source": [
        "from pandas import read_csv\n",
        "from numpy import set_printoptions\n",
        "from sklearn.feature_selection import SelectKBest\n",
        "from sklearn.feature_selection import chi2\n",
        "\n",
        "filename = '/content/pima-indians-diabetes.data.csv'\n",
        "names = ['preg', 'plas', 'pres', 'skin', 'test', 'mass', 'pedi', 'age', 'class']\n",
        "\n",
        "dataframe = read_csv(filename, names=names)\n",
        "print(dataframe)\n",
        "\n",
        "array = dataframe.values\n",
        "X = array[:, 0:8]\n",
        "Y = array[:, 8]\n",
        "\n",
        "test = SelectKBest(score_func=chi2, k=5)\n",
        "fit = test.fit(X, Y)\n",
        "\n",
        "set_printoptions(precision=3)\n",
        "print(fit.scores_)\n",
        "\n",
        "features = fit.transform(X)\n",
        "\n",
        "selected_features = [names[i] for i in range(len(fit.scores_)) if fit.scores_[i] > 0]\n",
        "print(\"Selected features:\", selected_features)"
      ]
    },
    {
      "cell_type": "code",
      "source": [],
      "metadata": {
        "id": "E6y3skP5IWB0"
      },
      "execution_count": null,
      "outputs": []
    }
  ]
}