{
 "cells": [
  {
   "cell_type": "code",
   "execution_count": 23,
   "id": "59a0c7cc-53e3-4ddc-aa21-afc97b0e4772",
   "metadata": {},
   "outputs": [
    {
     "name": "stdout",
     "output_type": "stream",
     "text": [
      "{'mobile_usage': [1, 2, 5], 'name': ['bhavagna', 'sudharshan', 'sirikonda'], 'reg_no': [626, 627, 666]}\n"
     ]
    }
   ],
   "source": [
    "import pandas as pd \n",
    "mobile_usage =[1,2,5]\n",
    "name = [\"bhavagna\",\"sudharshan\",\"sirikonda\"]\n",
    "reg_no = [626,627,666]\n",
    "dict1 = {\"mobile_usage\":mobile_usage,\"name\":name,\"reg_no\":reg_no}\n",
    "print(dict1)\n",
    "\n"
   ]
  },
  {
   "cell_type": "code",
   "execution_count": 25,
   "id": "0e0e7317-4bfe-4412-b60a-0184ebca62ac",
   "metadata": {},
   "outputs": [
    {
     "data": {
      "text/html": [
       "<div>\n",
       "<style scoped>\n",
       "    .dataframe tbody tr th:only-of-type {\n",
       "        vertical-align: middle;\n",
       "    }\n",
       "\n",
       "    .dataframe tbody tr th {\n",
       "        vertical-align: top;\n",
       "    }\n",
       "\n",
       "    .dataframe thead th {\n",
       "        text-align: right;\n",
       "    }\n",
       "</style>\n",
       "<table border=\"1\" class=\"dataframe\">\n",
       "  <thead>\n",
       "    <tr style=\"text-align: right;\">\n",
       "      <th></th>\n",
       "      <th>mobile_usage</th>\n",
       "      <th>name</th>\n",
       "      <th>reg_no</th>\n",
       "    </tr>\n",
       "  </thead>\n",
       "  <tbody>\n",
       "    <tr>\n",
       "      <th>0</th>\n",
       "      <td>1</td>\n",
       "      <td>bhavagna</td>\n",
       "      <td>626</td>\n",
       "    </tr>\n",
       "    <tr>\n",
       "      <th>1</th>\n",
       "      <td>2</td>\n",
       "      <td>sudharshan</td>\n",
       "      <td>627</td>\n",
       "    </tr>\n",
       "    <tr>\n",
       "      <th>2</th>\n",
       "      <td>5</td>\n",
       "      <td>sirikonda</td>\n",
       "      <td>666</td>\n",
       "    </tr>\n",
       "  </tbody>\n",
       "</table>\n",
       "</div>"
      ],
      "text/plain": [
       "   mobile_usage        name  reg_no\n",
       "0             1    bhavagna     626\n",
       "1             2  sudharshan     627\n",
       "2             5   sirikonda     666"
      ]
     },
     "execution_count": 25,
     "metadata": {},
     "output_type": "execute_result"
    }
   ],
   "source": [
    "df =pd.DataFrame(dict1)\n",
    "df"
   ]
  },
  {
   "cell_type": "markdown",
   "id": "9b16b81e-1694-4f50-aae7-3a13c0aa0f8a",
   "metadata": {},
   "source": [
    "# lists\n"
   ]
  },
  {
   "cell_type": "code",
   "execution_count": 36,
   "id": "fcd99a6b-6ac4-438b-830a-04c747b61d71",
   "metadata": {},
   "outputs": [
    {
     "name": "stdout",
     "output_type": "stream",
     "text": [
      "[1, 2, 3, 4, 5]\n"
     ]
    }
   ],
   "source": [
    "list = [1,2,3,4,5]\n",
    "res = [i for i in list]\n",
    "print(res)"
   ]
  },
  {
   "cell_type": "code",
   "execution_count": 52,
   "id": "b4ad4f35-52d5-4a1a-826a-6e1d60676573",
   "metadata": {},
   "outputs": [
    {
     "name": "stdout",
     "output_type": "stream",
     "text": [
      "[2, 4]\n",
      "[1, 3, 5]\n"
     ]
    }
   ],
   "source": [
    "list = [1,2,3,4,5]\n",
    "res = [i for i in list if i%2==0]\n",
    "print(res)\n",
    "res = [i for i in list if i%2!=0]\n",
    "print(res)\n"
   ]
  },
  {
   "cell_type": "code",
   "execution_count": 5,
   "id": "77ca05bf-20c9-4b9e-9ac0-d694678beef5",
   "metadata": {},
   "outputs": [
    {
     "name": "stdout",
     "output_type": "stream",
     "text": [
      "{12: 'a', 123: 'abc', 26: 'id'}\n"
     ]
    }
   ],
   "source": [
    "dict1 = {\"a\":12,\"abc\":123,\"id\":26}\n",
    "result= {value:key for key,value in dict1.items()}\n",
    "print(result)"
   ]
  },
  {
   "cell_type": "code",
   "execution_count": 32,
   "id": "7f76b180-43a7-41b2-a17e-2dea317c6e88",
   "metadata": {},
   "outputs": [
    {
     "name": "stdout",
     "output_type": "stream",
     "text": [
      "{12: 'a', 123: 'abc', 26: 'id'}\n"
     ]
    }
   ],
   "source": [
    "dict1 = {\"a\":12,\"abc\":123,\"id\":26}\n",
    "result= {value:key for key,value in dict1.items()}\n",
    "print(result)"
   ]
  },
  {
   "cell_type": "code",
   "execution_count": 28,
   "id": "b78773f4-3ebe-417e-8817-fc92178dc0bf",
   "metadata": {},
   "outputs": [
    {
     "data": {
      "text/plain": [
       "dict_keys(['a', 'abc', 'id'])"
      ]
     },
     "execution_count": 28,
     "metadata": {},
     "output_type": "execute_result"
    }
   ],
   "source": [
    "dict1.keys()"
   ]
  },
  {
   "cell_type": "code",
   "execution_count": 36,
   "id": "9ed16f98-5f0d-41ab-9158-4ee14af0b2d0",
   "metadata": {},
   "outputs": [
    {
     "data": {
      "text/plain": [
       "dict_values([12, 123, 26])"
      ]
     },
     "execution_count": 36,
     "metadata": {},
     "output_type": "execute_result"
    }
   ],
   "source": [
    "dict1.values()"
   ]
  },
  {
   "cell_type": "code",
   "execution_count": 46,
   "id": "ba00b229-4a10-427f-8c1d-f0b888ccce5f",
   "metadata": {},
   "outputs": [
    {
     "name": "stdout",
     "output_type": "stream",
     "text": [
      "(1.0, 1.4142135623730951, 1.7320508075688772, 2.0, 2.23606797749979)\n"
     ]
    }
   ],
   "source": [
    "import math \n",
    "numbers = [1, 2, 3, 4, 5]\n",
    "res = tuple(math.sqrt(i) for i in numbers)\n",
    "print(res)"
   ]
  },
  {
   "cell_type": "code",
   "execution_count": 1,
   "id": "7e0d12e5-0a52-430b-b982-6e172a8dbaca",
   "metadata": {},
   "outputs": [
    {
     "name": "stdout",
     "output_type": "stream",
     "text": [
      "{'smartphone': 500}\n"
     ]
    }
   ],
   "source": [
    "dicts = [\n",
    "    {\"name\": \"laptop\", \"price\":800},\n",
    "    {\"name\": \"smartphone\", \"price\":500}\n",
    "]\n",
    "a = {i[\"name\"]:i[\"price\"] for i in dicts if i[\"price\"] <=500}\n",
    "print(a)\n",
    "    "
   ]
  },
  {
   "cell_type": "code",
   "execution_count": 12,
   "id": "8676c3b4-e6f0-4eb8-8544-8f179b83e644",
   "metadata": {},
   "outputs": [
    {
     "name": "stdout",
     "output_type": "stream",
     "text": [
      "[1, 4, 9, 16, 25, 36, 49, 64, 81, 100, 121, 144, 169, 196, 225, 256, 289, 324, 361, 400, 441, 484, 529, 576, 625, 676, 729, 784, 841, 900, 961, 1024, 1089, 1156, 1225, 1296, 1369, 1444, 1521, 1600, 1681, 1764, 1849, 1936, 2025, 2116, 2209, 2304, 2401]\n",
      "[1, 4, 9, 16, 25, 36, 49, 64, 81, 100, 121, 144, 169, 196, 225, 256, 289, 324, 361]\n"
     ]
    }
   ],
   "source": [
    "#finding list of squares \n",
    "res = [x**2 for x in range(1,50)]\n",
    "print(res)\n",
    "result = [x**2 for x in range(1,20)]\n",
    "print(result)"
   ]
  },
  {
   "cell_type": "code",
   "execution_count": 30,
   "id": "1e8738cd-6079-4eb0-a300-107a57a526d5",
   "metadata": {},
   "outputs": [
    {
     "name": "stdout",
     "output_type": "stream",
     "text": [
      "True\n"
     ]
    }
   ],
   "source": [
    "x=\"madam\" \n",
    "if(x==x[::-1]):\n",
    "    print(\"True\")\n",
    "else:\n",
    "    print(\"False\")\n"
   ]
  },
  {
   "cell_type": "code",
   "execution_count": 46,
   "id": "1c2cd2c3-6bca-4cff-bb7e-7c068973b500",
   "metadata": {},
   "outputs": [
    {
     "data": {
      "text/plain": [
       "['madam', 'radar']"
      ]
     },
     "execution_count": 46,
     "metadata": {},
     "output_type": "execute_result"
    }
   ],
   "source": [
    "#palindrome\n",
    "a= [\"madam\",\"radar\",\"xyz\"]\n",
    "res= [i for i in a if (i==i[::-1])]\n",
    "res\n"
   ]
  },
  {
   "cell_type": "code",
   "execution_count": 50,
   "id": "f2417342-1504-43c9-8cb6-48fc32db376e",
   "metadata": {},
   "outputs": [
    {
     "data": {
      "text/plain": [
       "[2, 3, 4, 6]"
      ]
     },
     "execution_count": 50,
     "metadata": {},
     "output_type": "execute_result"
    }
   ],
   "source": [
    "lists = [1,2,3,4,6]\n",
    "list2 = [2,3,4,5,6]\n",
    "res=[i for i in lists if i in list2]\n",
    "res"
   ]
  },
  {
   "cell_type": "code",
   "execution_count": 52,
   "id": "36b14ba9-1188-47e4-b6ea-ff3a9fa5c86a",
   "metadata": {},
   "outputs": [
    {
     "data": {
      "text/plain": [
       "[1]"
      ]
     },
     "execution_count": 52,
     "metadata": {},
     "output_type": "execute_result"
    }
   ],
   "source": [
    "lists = [1,2,3,4,6]\n",
    "list2 = [2,3,4,5,6]\n",
    "res=[i for i in lists if i not in list2]\n",
    "res"
   ]
  },
  {
   "cell_type": "code",
   "execution_count": 54,
   "id": "d6ff0f3f-e2c1-47e5-96d6-c60f17e20d30",
   "metadata": {},
   "outputs": [
    {
     "data": {
      "text/plain": [
       "[]"
      ]
     },
     "execution_count": 54,
     "metadata": {},
     "output_type": "execute_result"
    }
   ],
   "source": [
    "lists = [1,2,3,4,6]\n",
    "list2 = [7,8,9,0,10]\n",
    "res=[i for i in lists if i in list2]\n",
    "res"
   ]
  },
  {
   "cell_type": "code",
   "execution_count": null,
   "id": "fd5196a4-9a85-40b9-8a69-692d1850d23d",
   "metadata": {},
   "outputs": [],
   "source": []
  }
 ],
 "metadata": {
  "kernelspec": {
   "display_name": "Python 3 (ipykernel)",
   "language": "python",
   "name": "python3"
  },
  "language_info": {
   "codemirror_mode": {
    "name": "ipython",
    "version": 3
   },
   "file_extension": ".py",
   "mimetype": "text/x-python",
   "name": "python",
   "nbconvert_exporter": "python",
   "pygments_lexer": "ipython3",
   "version": "3.12.7"
  }
 },
 "nbformat": 4,
 "nbformat_minor": 5
}
