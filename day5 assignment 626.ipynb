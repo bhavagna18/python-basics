{
 "cells": [
  {
   "cell_type": "code",
   "execution_count": null,
   "id": "18cbf184-2b7b-427f-beab-59f3c5791422",
   "metadata": {},
   "outputs": [
    {
     "name": "stdin",
     "output_type": "stream",
     "text": [
      "Enter a positive integer:  20\n"
     ]
    },
    {
     "name": "stdout",
     "output_type": "stream",
     "text": [
      "Numbers from 1 to 20 :\n",
      "1\n",
      "2\n",
      "3\n",
      "4\n",
      "5\n",
      "6\n",
      "7\n",
      "8\n",
      "9\n",
      "10\n",
      "11\n",
      "12\n",
      "13\n",
      "14\n",
      "15\n",
      "16\n",
      "17\n",
      "18\n",
      "19\n",
      "20\n",
      "Sum of numbers from 1 to 20 is: 210\n"
     ]
    }
   ],
   "source": [
    "\n",
    "def main():\n",
    "    \n",
    "    n = int(input(\"Enter a positive integer: \"))\n",
    "    print(\"Numbers from 1 to\", n, \":\")\n",
    "    for i in range(1, n + 1):\n",
    "        print(i)\n",
    "    \n",
    "    total = 0\n",
    "    count = 1\n",
    "    while count <= n:\n",
    "        total += count\n",
    "        count += 1\n",
    "    \n",
    "    print(\"Sum of numbers from 1 to\", n, \"is:\", total)\n",
    "\n",
    "def calculate_square(n):\n",
    "    return n * n\n",
    "\n",
    "def square_program():\n",
    "    num = int(input(\"Enter a positive integer: \"))\n",
    "    result = calculate_square(num)\n",
    "    print(\"Square of\", num, \"is:\", result)\n",
    "\n",
    "main()\n",
    "square_program()\n"
   ]
  },
  {
   "cell_type": "code",
   "execution_count": null,
   "id": "616be8ca-48d7-496e-89a1-2542e1dce4c1",
   "metadata": {},
   "outputs": [],
   "source": []
  }
 ],
 "metadata": {
  "kernelspec": {
   "display_name": "Python 3 (ipykernel)",
   "language": "python",
   "name": "python3"
  },
  "language_info": {
   "codemirror_mode": {
    "name": "ipython",
    "version": 3
   },
   "file_extension": ".py",
   "mimetype": "text/x-python",
   "name": "python",
   "nbconvert_exporter": "python",
   "pygments_lexer": "ipython3",
   "version": "3.12.7"
  }
 },
 "nbformat": 4,
 "nbformat_minor": 5
}
