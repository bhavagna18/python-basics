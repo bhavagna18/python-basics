{
 "cells": [
  {
   "cell_type": "code",
   "execution_count": 3,
   "id": "142b3b19-7546-4ae8-9af8-54decd852ce3",
   "metadata": {},
   "outputs": [
    {
     "name": "stdin",
     "output_type": "stream",
     "text": [
      "Enter a positive interger:  6\n"
     ]
    },
    {
     "name": "stdout",
     "output_type": "stream",
     "text": [
      "Sum of all even numbers between 1 and 6 is: 12\n"
     ]
    }
   ],
   "source": [
    "n = int(input(\"Enter a positive interger: \"))\n",
    "if n > 0:\n",
    "    total = sum(i for i in range(2, n+ 1, 2))\n",
    "    print(\"Sum of all even numbers between 1 and\",n, \"is:\",total)\n",
    "else:\n",
    "    print(\"Please enter a postive interger.\")"
   ]
  },
  {
   "cell_type": "code",
   "execution_count": null,
   "id": "30eccd5d-f8f5-442b-bfa8-d20ad1c433f4",
   "metadata": {},
   "outputs": [],
   "source": []
  }
 ],
 "metadata": {
  "kernelspec": {
   "display_name": "Python 3 (ipykernel)",
   "language": "python",
   "name": "python3"
  },
  "language_info": {
   "codemirror_mode": {
    "name": "ipython",
    "version": 3
   },
   "file_extension": ".py",
   "mimetype": "text/x-python",
   "name": "python",
   "nbconvert_exporter": "python",
   "pygments_lexer": "ipython3",
   "version": "3.12.7"
  }
 },
 "nbformat": 4,
 "nbformat_minor": 5
}
