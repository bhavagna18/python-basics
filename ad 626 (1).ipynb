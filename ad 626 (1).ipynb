{
 "cells": [
  {
   "cell_type": "code",
   "execution_count": 23,
   "id": "59a0c7cc-53e3-4ddc-aa21-afc97b0e4772",
   "metadata": {},
   "outputs": [
    {
     "name": "stdout",
     "output_type": "stream",
     "text": [
      "{'mobile_usage': [1, 2, 5], 'name': ['bhavagna', 'sudharshan', 'sirikonda'], 'reg_no': [626, 627, 666]}\n"
     ]
    }
   ],
   "source": [
    "import pandas as pd \n",
    "mobile_usage =[1,2,5]\n",
    "name = [\"bhavagna\",\"sudharshan\",\"sirikonda\"]\n",
    "reg_no = [626,627,666]\n",
    "dict1 = {\"mobile_usage\":mobile_usage,\"name\":name,\"reg_no\":reg_no}\n",
    "print(dict1)\n",
    "\n"
   ]
  },
  {
   "cell_type": "code",
   "execution_count": 25,
   "id": "0e0e7317-4bfe-4412-b60a-0184ebca62ac",
   "metadata": {},
   "outputs": [
    {
     "data": {
      "text/html": [
       "<div>\n",
       "<style scoped>\n",
       "    .dataframe tbody tr th:only-of-type {\n",
       "        vertical-align: middle;\n",
       "    }\n",
       "\n",
       "    .dataframe tbody tr th {\n",
       "        vertical-align: top;\n",
       "    }\n",
       "\n",
       "    .dataframe thead th {\n",
       "        text-align: right;\n",
       "    }\n",
       "</style>\n",
       "<table border=\"1\" class=\"dataframe\">\n",
       "  <thead>\n",
       "    <tr style=\"text-align: right;\">\n",
       "      <th></th>\n",
       "      <th>mobile_usage</th>\n",
       "      <th>name</th>\n",
       "      <th>reg_no</th>\n",
       "    </tr>\n",
       "  </thead>\n",
       "  <tbody>\n",
       "    <tr>\n",
       "      <th>0</th>\n",
       "      <td>1</td>\n",
       "      <td>bhavagna</td>\n",
       "      <td>626</td>\n",
       "    </tr>\n",
       "    <tr>\n",
       "      <th>1</th>\n",
       "      <td>2</td>\n",
       "      <td>sudharshan</td>\n",
       "      <td>627</td>\n",
       "    </tr>\n",
       "    <tr>\n",
       "      <th>2</th>\n",
       "      <td>5</td>\n",
       "      <td>sirikonda</td>\n",
       "      <td>666</td>\n",
       "    </tr>\n",
       "  </tbody>\n",
       "</table>\n",
       "</div>"
      ],
      "text/plain": [
       "   mobile_usage        name  reg_no\n",
       "0             1    bhavagna     626\n",
       "1             2  sudharshan     627\n",
       "2             5   sirikonda     666"
      ]
     },
     "execution_count": 25,
     "metadata": {},
     "output_type": "execute_result"
    }
   ],
   "source": [
    "df =pd.DataFrame(dict1)\n",
    "df"
   ]
  },
  {
   "cell_type": "markdown",
   "id": "9b16b81e-1694-4f50-aae7-3a13c0aa0f8a",
   "metadata": {},
   "source": [
    "# lists\n"
   ]
  },
  {
   "cell_type": "code",
   "execution_count": 36,
   "id": "fcd99a6b-6ac4-438b-830a-04c747b61d71",
   "metadata": {},
   "outputs": [
    {
     "name": "stdout",
     "output_type": "stream",
     "text": [
      "[1, 2, 3, 4, 5]\n"
     ]
    }
   ],
   "source": [
    "list = [1,2,3,4,5]\n",
    "res = [i for i in list]\n",
    "print(res)"
   ]
  },
  {
   "cell_type": "code",
   "execution_count": 52,
   "id": "b4ad4f35-52d5-4a1a-826a-6e1d60676573",
   "metadata": {},
   "outputs": [
    {
     "name": "stdout",
     "output_type": "stream",
     "text": [
      "[2, 4]\n",
      "[1, 3, 5]\n"
     ]
    }
   ],
   "source": [
    "list = [1,2,3,4,5]\n",
    "res = [i for i in list if i%2==0]\n",
    "print(res)\n",
    "res = [i for i in list if i%2!=0]\n",
    "print(res)\n"
   ]
  },
  {
   "cell_type": "code",
   "execution_count": 5,
   "id": "77ca05bf-20c9-4b9e-9ac0-d694678beef5",
   "metadata": {},
   "outputs": [
    {
     "name": "stdout",
     "output_type": "stream",
     "text": [
      "{12: 'a', 123: 'abc', 26: 'id'}\n"
     ]
    }
   ],
   "source": [
    "dict1 = {\"a\":12,\"abc\":123,\"id\":26}\n",
    "result= {value:key for key,value in dict1.items()}\n",
    "print(result)"
   ]
  },
  {
   "cell_type": "code",
   "execution_count": 32,
   "id": "7f76b180-43a7-41b2-a17e-2dea317c6e88",
   "metadata": {},
   "outputs": [
    {
     "name": "stdout",
     "output_type": "stream",
     "text": [
      "{12: 'a', 123: 'abc', 26: 'id'}\n"
     ]
    }
   ],
   "source": [
    "dict1 = {\"a\":12,\"abc\":123,\"id\":26}\n",
    "result= {value:key for key,value in dict1.items()}\n",
    "print(result)"
   ]
  },
  {
   "cell_type": "code",
   "execution_count": 28,
   "id": "b78773f4-3ebe-417e-8817-fc92178dc0bf",
   "metadata": {},
   "outputs": [
    {
     "data": {
      "text/plain": [
       "dict_keys(['a', 'abc', 'id'])"
      ]
     },
     "execution_count": 28,
     "metadata": {},
     "output_type": "execute_result"
    }
   ],
   "source": [
    "dict1.keys()"
   ]
  },
  {
   "cell_type": "code",
   "execution_count": 36,
   "id": "9ed16f98-5f0d-41ab-9158-4ee14af0b2d0",
   "metadata": {},
   "outputs": [
    {
     "data": {
      "text/plain": [
       "dict_values([12, 123, 26])"
      ]
     },
     "execution_count": 36,
     "metadata": {},
     "output_type": "execute_result"
    }
   ],
   "source": [
    "dict1.values()"
   ]
  },
  {
   "cell_type": "code",
   "execution_count": 46,
   "id": "ba00b229-4a10-427f-8c1d-f0b888ccce5f",
   "metadata": {},
   "outputs": [
    {
     "name": "stdout",
     "output_type": "stream",
     "text": [
      "(1.0, 1.4142135623730951, 1.7320508075688772, 2.0, 2.23606797749979)\n"
     ]
    }
   ],
   "source": [
    "import math \n",
    "numbers = [1, 2, 3, 4, 5]\n",
    "res = tuple(math.sqrt(i) for i in numbers)\n",
    "print(res)"
   ]
  },
  {
   "cell_type": "code",
   "execution_count": 1,
   "id": "7e0d12e5-0a52-430b-b982-6e172a8dbaca",
   "metadata": {},
   "outputs": [
    {
     "name": "stdout",
     "output_type": "stream",
     "text": [
      "{'smartphone': 500}\n"
     ]
    }
   ],
   "source": [
    "dicts = [\n",
    "    {\"name\": \"laptop\", \"price\":800},\n",
    "    {\"name\": \"smartphone\", \"price\":500}\n",
    "]\n",
    "a = {i[\"name\"]:i[\"price\"] for i in dicts if i[\"price\"] <=500}\n",
    "print(a)\n",
    "    "
   ]
  },
  {
   "cell_type": "code",
   "execution_count": 12,
   "id": "8676c3b4-e6f0-4eb8-8544-8f179b83e644",
   "metadata": {},
   "outputs": [
    {
     "name": "stdout",
     "output_type": "stream",
     "text": [
      "[1, 4, 9, 16, 25, 36, 49, 64, 81, 100, 121, 144, 169, 196, 225, 256, 289, 324, 361, 400, 441, 484, 529, 576, 625, 676, 729, 784, 841, 900, 961, 1024, 1089, 1156, 1225, 1296, 1369, 1444, 1521, 1600, 1681, 1764, 1849, 1936, 2025, 2116, 2209, 2304, 2401]\n",
      "[1, 4, 9, 16, 25, 36, 49, 64, 81, 100, 121, 144, 169, 196, 225, 256, 289, 324, 361]\n"
     ]
    }
   ],
   "source": [
    "#finding list of squares \n",
    "res = [x**2 for x in range(1,50)]\n",
    "print(res)\n",
    "result = [x**2 for x in range(1,20)]\n",
    "print(result)"
   ]
  },
  {
   "cell_type": "code",
   "execution_count": 30,
   "id": "1e8738cd-6079-4eb0-a300-107a57a526d5",
   "metadata": {},
   "outputs": [
    {
     "name": "stdout",
     "output_type": "stream",
     "text": [
      "True\n"
     ]
    }
   ],
   "source": [
    "x=\"madam\" \n",
    "if(x==x[::-1]):\n",
    "    print(\"True\")\n",
    "else:\n",
    "    print(\"False\")\n"
   ]
  },
  {
   "cell_type": "code",
   "execution_count": 46,
   "id": "1c2cd2c3-6bca-4cff-bb7e-7c068973b500",
   "metadata": {},
   "outputs": [
    {
     "data": {
      "text/plain": [
       "['madam', 'radar']"
      ]
     },
     "execution_count": 46,
     "metadata": {},
     "output_type": "execute_result"
    }
   ],
   "source": [
    "#palindrome\n",
    "a= [\"madam\",\"radar\",\"xyz\"]\n",
    "res= [i for i in a if (i==i[::-1])]\n",
    "res\n"
   ]
  },
  {
   "cell_type": "code",
   "execution_count": 50,
   "id": "f2417342-1504-43c9-8cb6-48fc32db376e",
   "metadata": {},
   "outputs": [
    {
     "data": {
      "text/plain": [
       "[2, 3, 4, 6]"
      ]
     },
     "execution_count": 50,
     "metadata": {},
     "output_type": "execute_result"
    }
   ],
   "source": [
    "lists = [1,2,3,4,6]\n",
    "list2 = [2,3,4,5,6]\n",
    "res=[i for i in lists if i in list2]\n",
    "res"
   ]
  },
  {
   "cell_type": "code",
   "execution_count": 52,
   "id": "36b14ba9-1188-47e4-b6ea-ff3a9fa5c86a",
   "metadata": {},
   "outputs": [
    {
     "data": {
      "text/plain": [
       "[1]"
      ]
     },
     "execution_count": 52,
     "metadata": {},
     "output_type": "execute_result"
    }
   ],
   "source": [
    "lists = [1,2,3,4,6]\n",
    "list2 = [2,3,4,5,6]\n",
    "res=[i for i in lists if i not in list2]\n",
    "res"
   ]
  },
  {
   "cell_type": "code",
   "execution_count": 54,
   "id": "d6ff0f3f-e2c1-47e5-96d6-c60f17e20d30",
   "metadata": {},
   "outputs": [
    {
     "data": {
      "text/plain": [
       "[]"
      ]
     },
     "execution_count": 54,
     "metadata": {},
     "output_type": "execute_result"
    }
   ],
   "source": [
    "lists = [1,2,3,4,6]\n",
    "list2 = [7,8,9,0,10]\n",
    "res=[i for i in lists if i in list2]\n",
    "res"
   ]
  },
  {
   "cell_type": "code",
   "execution_count": 1,
   "id": "fd5196a4-9a85-40b9-8a69-692d1850d23d",
   "metadata": {},
   "outputs": [
    {
     "name": "stdout",
     "output_type": "stream",
     "text": [
      "<function <lambda> at 0x00000214CF5494E0>\n",
      "15\n"
     ]
    }
   ],
   "source": [
    "#Functions\n",
    "#Lamda functions\n",
    "#c. Nested Functions\n",
    "#Decarators\n",
    "\n",
    "square = lambda x:x**2 in range(1,10)\n",
    "print(square)\n",
    "\n",
    "def calculator(a, b, operation):\n",
    "    if operation == \"add\":\n",
    "        return a + b\n",
    "    elif operation == \"subtract\":\n",
    "        return a - b\n",
    "    elif operation == \"multiply\":\n",
    "        return a * b\n",
    "    elif operation == \"divide\":\n",
    "        return a / b\n",
    "    else:\n",
    "        return \"Invalid operation\"\n",
    "\n",
    "print(calculator(10, 5, \"add\"))  # Output: 15"
   ]
  },
  {
   "cell_type": "code",
   "execution_count": 1,
   "id": "509231ae-2e4a-4578-bb23-7aee145e252c",
   "metadata": {},
   "outputs": [
    {
     "data": {
      "text/plain": [
       "[4, 5]"
      ]
     },
     "execution_count": 1,
     "metadata": {},
     "output_type": "execute_result"
    }
   ],
   "source": [
    "lis1 = [1,2,3,4,5]\n",
    "lis2 = lis1[3:6]\n",
    "lis2"
   ]
  },
  {
   "cell_type": "code",
   "execution_count": 9,
   "id": "fd1b8144-0cac-497d-8a2a-7c4c4ce5651c",
   "metadata": {},
   "outputs": [
    {
     "name": "stdout",
     "output_type": "stream",
     "text": [
      "[4, 5]\n",
      "<list_iterator object at 0x0000027D187365F0>\n"
     ]
    }
   ],
   "source": [
    "lis1 = [1,2,3,4,5]\n",
    "lis2 = lis1[3:6]\n",
    "print(lis2)\n",
    "iterate_var = iter(lis1)\n",
    "print(iterate_var)\n"
   ]
  },
  {
   "cell_type": "code",
   "execution_count": 11,
   "id": "b99804c9-7472-4ab5-a0ac-ae89f1fac45d",
   "metadata": {},
   "outputs": [],
   "source": [
    "for i in iterate_var:\n",
    "    if i > 5:  \n",
    "        print(i + 1)  \n"
   ]
  },
  {
   "cell_type": "code",
   "execution_count": 40,
   "id": "0d81c137-f1c0-4f96-a694-1c9108828f61",
   "metadata": {},
   "outputs": [
    {
     "name": "stdout",
     "output_type": "stream",
     "text": [
      "12\n"
     ]
    }
   ],
   "source": [
    "def square (i):\n",
    "    for i in range(i):\n",
    "        i=i+2\n",
    "    return i\n",
    "res = square(11)\n",
    "print(res)"
   ]
  },
  {
   "cell_type": "code",
   "execution_count": 46,
   "id": "d8a41c4c-36c0-41f8-95ce-62765ac6d4ac",
   "metadata": {},
   "outputs": [
    {
     "name": "stdout",
     "output_type": "stream",
     "text": [
      "2\n",
      "3\n",
      "4\n",
      "5\n",
      "6\n",
      "7\n",
      "8\n",
      "9\n",
      "10\n",
      "11\n"
     ]
    }
   ],
   "source": [
    "def square (i):\n",
    "    for i in range(i):\n",
    "        i = i+2\n",
    "        yield i\n",
    "square(10)\n",
    "for i in square(10):\n",
    "    print(i)"
   ]
  },
  {
   "cell_type": "code",
   "execution_count": 56,
   "id": "f2e6118e-ada0-4ce9-9aa5-83164eef7db6",
   "metadata": {},
   "outputs": [
    {
     "name": "stdout",
     "output_type": "stream",
     "text": [
      "0\n",
      "1\n",
      "2\n",
      "3\n",
      "4\n",
      "5\n",
      "36\n",
      "49\n",
      "64\n",
      "81\n"
     ]
    }
   ],
   "source": [
    "def square (i):\n",
    "    for i in range(i):\n",
    "        if i>5:\n",
    "            i = i**2\n",
    "        yield i\n",
    "square(10)\n",
    "for i in square(10):\n",
    "    print(i)"
   ]
  },
  {
   "cell_type": "code",
   "execution_count": 68,
   "id": "75a0b3c8-d257-48cf-8f4e-16157de91d8c",
   "metadata": {},
   "outputs": [
    {
     "name": "stdout",
     "output_type": "stream",
     "text": [
      "30\n"
     ]
    }
   ],
   "source": [
    "result = lambda x,y:x+y\n",
    "print(result(10,20))"
   ]
  },
  {
   "cell_type": "code",
   "execution_count": 72,
   "id": "20658012-9bce-4964-8d09-88e47c066500",
   "metadata": {},
   "outputs": [
    {
     "name": "stdout",
     "output_type": "stream",
     "text": [
      "HELLO\n"
     ]
    }
   ],
   "source": [
    "def sample(func):\n",
    "    def wrapper(item):\n",
    "        item = item.upper()\n",
    "        return func(item)\n",
    "    return wrapper \n",
    "\n",
    "@sample\n",
    "def process(item):\n",
    "    return item \n",
    "result = process\n",
    "print(result(\"hello\"))"
   ]
  },
  {
   "cell_type": "code",
   "execution_count": 7,
   "id": "7f435f49-3269-4f81-a976-0f502806cd24",
   "metadata": {},
   "outputs": [
    {
     "name": "stdout",
     "output_type": "stream",
     "text": [
      "{'mobile_usage': [1, 2, 5], 'name': ['bhavagna', 'sudharshan', 'sirikonda'], 'reg_no': [626, 627, 666]}\n",
      "   mobile_usage        name  reg_no\n",
      "0             1    bhavagna     626\n",
      "1             2  sudharshan     627\n",
      "2             5   sirikonda     666\n",
      "   mobile_usage        name  reg_no\n",
      "0             1    bhavagna     626\n",
      "1             2  sudharshan     627\n",
      "2             5   sirikonda     666\n"
     ]
    }
   ],
   "source": [
    "import pandas as pd \n",
    "mobile_usage =[1,2,5]\n",
    "name = [\"bhavagna\",\"sudharshan\",\"sirikonda\"]\n",
    "reg_no = [626,627,666]\n",
    "dict1 = {\"mobile_usage\":mobile_usage,\"name\":name,\"reg_no\":reg_no}\n",
    "print(dict1)\n",
    "df = pd.DataFrame(dict1)\n",
    "print(df)\n",
    "df.head(5)\n",
    "df.tail(5)\n",
    "print(df)\n",
    "\n",
    "\n"
   ]
  },
  {
   "cell_type": "code",
   "execution_count": 5,
   "id": "accb35bd-2d8b-4f3b-b9a4-537b46fa34af",
   "metadata": {},
   "outputs": [
    {
     "name": "stdout",
     "output_type": "stream",
     "text": [
      "   product_id product_name  discount_percentage\n",
      "0         101    Product_1                    5\n",
      "1         102    Product_2                    6\n",
      "2         103    Product_3                    7\n",
      "3         104    Product_4                    8\n",
      "4         105    Product_5                    9\n"
     ]
    }
   ],
   "source": [
    "import pandas as pd  \n",
    "\n",
    "product_id = list(range(101, 121))  \n",
    "product_name = [f\"Product_{i}\" for i in range(1, 21)]  \n",
    "discount_percentage = [i % 10 + 5 for i in range(20)]  # Varying discount values  \n",
    "\n",
    "\n",
    "product_data = {  \n",
    "    \"product_id\": product_id,  \n",
    "    \"product_name\": product_name,  \n",
    "    \"discount_percentage\": discount_percentage  \n",
    "}  \n",
    "\n",
    " \n",
    "df = pd.DataFrame(product_data)  \n",
    "\n",
    " \n",
    "print(df.head(5))"
   ]
  },
  {
   "cell_type": "code",
   "execution_count": 25,
   "id": "a6550c08-27fb-41e8-a036-1efa35eae6fc",
   "metadata": {},
   "outputs": [
    {
     "data": {
      "text/plain": [
       "0.5"
      ]
     },
     "execution_count": 25,
     "metadata": {},
     "output_type": "execute_result"
    }
   ],
   "source": [
    "def dev_dec(func):\n",
    "    def inner(a,b):\n",
    "        if a < b:\n",
    "            a,b = b,a\n",
    "            return inner\n",
    "    \n",
    "def div(a,b):\n",
    "    return a/b \n",
    "div(2,4)\n"
   ]
  },
  {
   "cell_type": "code",
   "execution_count": 27,
   "id": "cecb3212-039b-451f-af29-9e8251726c15",
   "metadata": {},
   "outputs": [
    {
     "name": "stdout",
     "output_type": "stream",
     "text": [
      "2.0\n"
     ]
    }
   ],
   "source": [
    "def dev_dec(func):\n",
    "    def inner(a, b):\n",
    "        if a < b:\n",
    "            a, b = b, a\n",
    "        return func(a, b)  \n",
    "    return inner  \n",
    "\n",
    "@dev_dec\n",
    "def div(a, b):\n",
    "    return a / b \n",
    "\n",
    "print(div(2,4)) "
   ]
  },
  {
   "cell_type": "code",
   "execution_count": 45,
   "id": "1d08fc59-1628-40b0-93a0-7c5ca720db94",
   "metadata": {},
   "outputs": [
    {
     "name": "stdout",
     "output_type": "stream",
     "text": [
      "Error: cannot divide by zero\n",
      "None\n",
      "0.3333333333333333\n"
     ]
    }
   ],
   "source": [
    "def division(func):\n",
    "    def inn(a,c):\n",
    "        if c == 0:\n",
    "            print(\"Error: cannot divide by zero\")\n",
    "            return \n",
    "        if a > c:\n",
    "            a , c = c , a\n",
    "        return func(a, c)\n",
    "    return inn\n",
    "@division\n",
    "def div(a,c):\n",
    "    return a / c\n",
    "print(div(2,0))\n",
    "print(div(2,6))\n",
    "\n"
   ]
  },
  {
   "cell_type": "code",
   "execution_count": 49,
   "id": "70dcfcb9-e1b9-4d7b-ba4b-115baf513f92",
   "metadata": {},
   "outputs": [
    {
     "name": "stdout",
     "output_type": "stream",
     "text": [
      "0\n",
      "12\n",
      "1.0\n"
     ]
    }
   ],
   "source": [
    "def operation_check(func):\n",
    "    def inner(a, c):\n",
    "        if a * c > 20:\n",
    "            if c == 0:\n",
    "                print(\"Error: Cannot divide by zero\")\n",
    "                return None\n",
    "            return func(a, c) \n",
    "        return a * c \n",
    "    return inner\n",
    "\n",
    "@operation_check\n",
    "def div(a, c):\n",
    "    return a / c\n",
    "\n",
    "print(div(2, 0))  \n",
    "print(div(2, 6))   \n",
    "print(div(5, 5))   \n"
   ]
  },
  {
   "cell_type": "code",
   "execution_count": null,
   "id": "49251c40-5a12-4ff7-a332-6fd901692a8b",
   "metadata": {},
   "outputs": [],
   "source": []
  }
 ],
 "metadata": {
  "kernelspec": {
   "display_name": "Python 3 (ipykernel)",
   "language": "python",
   "name": "python3"
  },
  "language_info": {
   "codemirror_mode": {
    "name": "ipython",
    "version": 3
   },
   "file_extension": ".py",
   "mimetype": "text/x-python",
   "name": "python",
   "nbconvert_exporter": "python",
   "pygments_lexer": "ipython3",
   "version": "3.12.7"
  }
 },
 "nbformat": 4,
 "nbformat_minor": 5
}
