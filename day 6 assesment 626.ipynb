{
 "cells": [
  {
   "cell_type": "code",
   "execution_count": 1,
   "id": "e0f5eb1d-76a4-4588-b5f4-87883a5bf1c0",
   "metadata": {},
   "outputs": [],
   "source": [
    "import pandas as pd"
   ]
  },
  {
   "cell_type": "code",
   "execution_count": 13,
   "id": "134fa447-51c7-462b-8d1d-9cb438a04d30",
   "metadata": {},
   "outputs": [],
   "source": [
    "data = {\n",
    "    'name': ['John', 'Alice' , 'Bob', 'Diana'],\n",
    "    'Age': [28,34,23,29],\n",
    "    'Department': ['HR','IT','Marketing','Finance'],\n",
    "    'Salary': [45000,60000,35000,50000]\n",
    "}\n",
    "df = pd.DataFrame(data)"
   ]
  },
  {
   "cell_type": "code",
   "execution_count": 11,
   "id": "eea7692b-e00f-4d6b-8b05-8c447043225c",
   "metadata": {},
   "outputs": [
    {
     "name": "stdout",
     "output_type": "stream",
     "text": [
      "    name  Age Department  Salary\n",
      "0   John   28         HR   45000\n",
      "1  Alice   34         IT   60000\n"
     ]
    }
   ],
   "source": [
    "print(df.head(2))"
   ]
  },
  {
   "cell_type": "code",
   "execution_count": 15,
   "id": "a77fe530-d32f-43d1-a9bd-1cd2e6301918",
   "metadata": {},
   "outputs": [
    {
     "name": "stdout",
     "output_type": "stream",
     "text": [
      "\n",
      "DataFrame with Bonus Coulumn:\n",
      "    name  Age Department  Salary   Bonus\n",
      "0   John   28         HR   45000  4500.0\n",
      "1  Alice   34         IT   60000  6000.0\n",
      "2    Bob   23  Marketing   35000  3500.0\n",
      "3  Diana   29    Finance   50000  5000.0\n"
     ]
    }
   ],
   "source": [
    "df['Bonus'] =df['Salary'] * 0.10\n",
    "print(\"\\nDataFrame with Bonus Coulumn:\")\n",
    "print(df)"
   ]
  },
  {
   "cell_type": "code",
   "execution_count": 26,
   "id": "21f2d284-add3-475b-b9cf-c4e14da997a0",
   "metadata": {},
   "outputs": [
    {
     "name": "stdout",
     "output_type": "stream",
     "text": [
      "\n",
      "Average Salary: 47500.0\n",
      "\n",
      "Employees older than 25:\n",
      "    name  Age Department  Salary   Bonus\n",
      "0   John   28         HR   45000  4500.0\n",
      "1  Alice   34         IT   60000  6000.0\n",
      "3  Diana   29    Finance   50000  5000.0\n"
     ]
    }
   ],
   "source": [
    "\n",
    "average_salary = df['Salary'].mean()\n",
    "print(\"\\nAverage Salary:\", average_salary)\n",
    "filtered_df = df[df['Age'] > 25]\n",
    "print(\"\\nEmployees older than 25:\")\n",
    "print(filtered_df)\n"
   ]
  },
  {
   "cell_type": "code",
   "execution_count": null,
   "id": "bebf09e0-9eea-4f08-a150-a1e1da62c8d0",
   "metadata": {},
   "outputs": [],
   "source": []
  }
 ],
 "metadata": {
  "kernelspec": {
   "display_name": "Python 3 (ipykernel)",
   "language": "python",
   "name": "python3"
  },
  "language_info": {
   "codemirror_mode": {
    "name": "ipython",
    "version": 3
   },
   "file_extension": ".py",
   "mimetype": "text/x-python",
   "name": "python",
   "nbconvert_exporter": "python",
   "pygments_lexer": "ipython3",
   "version": "3.12.7"
  }
 },
 "nbformat": 4,
 "nbformat_minor": 5
}
