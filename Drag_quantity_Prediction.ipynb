{
  "nbformat": 4,
  "nbformat_minor": 0,
  "metadata": {
    "colab": {
      "provenance": [],
      "authorship_tag": "ABX9TyN5ckbv3tWahy2dMPVIz6Wj",
      "include_colab_link": true
    },
    "kernelspec": {
      "name": "python3",
      "display_name": "Python 3"
    },
    "language_info": {
      "name": "python"
    }
  },
  "cells": [
    {
      "cell_type": "markdown",
      "metadata": {
        "id": "view-in-github",
        "colab_type": "text"
      },
      "source": [
        "<a href=\"https://colab.research.google.com/github/bhavagna18/python-basics/blob/main/Drag_quantity_Prediction.ipynb\" target=\"_parent\"><img src=\"https://colab.research.google.com/assets/colab-badge.svg\" alt=\"Open In Colab\"/></a>"
      ]
    },
    {
      "cell_type": "code",
      "execution_count": 12,
      "metadata": {
        "id": "fXuw_NOegNTq"
      },
      "outputs": [],
      "source": [
        "import pandas as pd\n",
        "import random\n",
        "from sklearn.model_selection import train_test_split\n",
        "from sklearn.preprocessing import LabelEncoder\n",
        "from sklearn.linear_model import LinearRegression\n",
        "from sklearn.ensemble import RandomForestRegressor\n",
        "from sklearn.tree import DecisionTreeRegressor\n",
        "from sklearn.metrics import mean_squared_error\n",
        "from sklearn.svm import SVR\n",
        "import xgboost as xgb\n",
        "import numpy as np"
      ]
    },
    {
      "cell_type": "code",
      "source": [
        "csv_file = '/content/patient_drag_quantity_data_with_30_features.csv'"
      ],
      "metadata": {
        "id": "gq6XhSLWhr21"
      },
      "execution_count": 13,
      "outputs": []
    },
    {
      "cell_type": "code",
      "source": [
        "df = pd.read_csv(csv_file)\n",
        "df.to_csv(csv_file, index=False)\n",
        "print(df)"
      ],
      "metadata": {
        "colab": {
          "base_uri": "https://localhost:8080/"
        },
        "id": "uqKU5dBmhuS9",
        "outputId": "ff3768fa-5902-449e-a3a4-c261b262555f"
      },
      "execution_count": 14,
      "outputs": [
        {
          "output_type": "stream",
          "name": "stdout",
          "text": [
            "      Drag Quantity  Age  Gender  Height  Weight Region Grade Level  \\\n",
            "0          3.162938   18  Female     172      45  Urban     Grade 1   \n",
            "1          1.376374   17  Female      98      51  Urban     Grade 5   \n",
            "2          3.011316    9    Male     121      51  Urban     Grade 6   \n",
            "3          2.481289   14  Female     108      34  Rural     Grade 2   \n",
            "4          4.518977    8  Female     132      65  Urban     Grade 5   \n",
            "...             ...  ...     ...     ...     ...    ...         ...   \n",
            "9995       1.542583   18  Female     178      64  Rural     Grade 4   \n",
            "9996       3.306329   17  Female     167      49  Urban     Grade 7   \n",
            "9997       1.705147    9  Female      97      30  Rural     Grade 8   \n",
            "9998       1.036133   13  Female     157      15  Urban     Grade 8   \n",
            "9999       4.658879   17  Female     161      67  Urban     Grade 4   \n",
            "\n",
            "      Num Siblings  Parent Health  Household Type  ...  Mother Education  \\\n",
            "0                1              1               0  ...   Bachelor Degree   \n",
            "1                4              1               0  ...   Bachelor Degree   \n",
            "2                5              1               0  ...     Master Degree   \n",
            "3                2              1               1  ...       High School   \n",
            "4                4              0               0  ...  Associate Degree   \n",
            "...            ...            ...             ...  ...               ...   \n",
            "9995             4              1               0  ...     Master Degree   \n",
            "9996             1              0               0  ...   Bachelor Degree   \n",
            "9997             5              1               0  ...       High School   \n",
            "9998             0              0               1  ...  Associate Degree   \n",
            "9999             2              0               0  ...     Master Degree   \n",
            "\n",
            "      Father Education  Num Chronic Conditions  Screen Time    BMI  \\\n",
            "0          High School                       3     5.395818  15.21   \n",
            "1          High School                       2     2.712910  53.10   \n",
            "2      Bachelor Degree                       2     2.907976  34.83   \n",
            "3          High School                       2     5.358511  29.15   \n",
            "4     Associate Degree                       1     3.529981  37.30   \n",
            "...                ...                     ...          ...    ...   \n",
            "9995     Master Degree                       3     2.225237  20.20   \n",
            "9996         Doctorate                       1     2.062990  17.57   \n",
            "9997   Bachelor Degree                       1     5.413440  31.88   \n",
            "9998  Associate Degree                       3     1.095403   6.09   \n",
            "9999         Doctorate                       0     3.185985  25.85   \n",
            "\n",
            "     Exercise Frequency Diet Quality  Sleep Hours  Chronic Medication  \\\n",
            "0                     4            3     8.390627                   0   \n",
            "1                     0            3     5.023669                   0   \n",
            "2                     1            3     6.045291                   1   \n",
            "3                     0            2     7.247505                   0   \n",
            "4                     1            1     7.511407                   1   \n",
            "...                 ...          ...          ...                 ...   \n",
            "9995                  3            3     7.903238                   0   \n",
            "9996                  7            4     8.857444                   1   \n",
            "9997                  7            2     5.459517                   1   \n",
            "9998                  6            4     6.957411                   0   \n",
            "9999                  6            5     9.504112                   0   \n",
            "\n",
            "      Allergic Medication  \n",
            "0                       0  \n",
            "1                       1  \n",
            "2                       0  \n",
            "3                       1  \n",
            "4                       1  \n",
            "...                   ...  \n",
            "9995                    1  \n",
            "9996                    0  \n",
            "9997                    0  \n",
            "9998                    0  \n",
            "9999                    0  \n",
            "\n",
            "[10000 rows x 25 columns]\n"
          ]
        }
      ]
    },
    {
      "cell_type": "code",
      "source": [
        "\n",
        "label_encoder = LabelEncoder()\n",
        "categorical_cols = ['Gender', 'Region', 'Grade Level', 'Mother Education', 'Father Education']\n",
        "for col in categorical_cols:\n",
        "    df[col] = label_encoder.fit_transform(df[col])"
      ],
      "metadata": {
        "id": "2WMtprsKhwTN"
      },
      "execution_count": 15,
      "outputs": []
    },
    {
      "cell_type": "code",
      "source": [
        "X = df.drop(columns=['Drag Quantity'])\n",
        "y = df['Drag Quantity']\n",
        ""
      ],
      "metadata": {
        "id": "C_5rJWtlhzCf"
      },
      "execution_count": 16,
      "outputs": []
    },
    {
      "cell_type": "code",
      "source": [
        "X_train,X_test,y_train,y_test = train_test_split(X,y,test_size=0.2,random_state=42)"
      ],
      "metadata": {
        "id": "AU24qXoMh1Fo"
      },
      "execution_count": 17,
      "outputs": []
    },
    {
      "cell_type": "code",
      "source": [
        "models = {\n",
        "    'Linear Regression': LinearRegression(),\n",
        "    'Random Forest': RandomForestRegressor(),\n",
        "    'Decision Tree': DecisionTreeRegressor(),\n",
        "    'XGBoost': xgb.XGBRegressor()\n",
        "}"
      ],
      "metadata": {
        "id": "AzLZG3Zih3B2"
      },
      "execution_count": 18,
      "outputs": []
    },
    {
      "cell_type": "code",
      "source": [
        "for model_name, model in models.items():\n",
        "  model.fit(X_train,y_train)\n",
        "\n",
        "  y_pred = model.predict(X_test)\n",
        "\n",
        "  rmse = np.sqrt(mean_squared_error(y_test,y_pred))\n",
        "\n",
        "  print(f\"{model_name} RMSE: {rmse}\")"
      ],
      "metadata": {
        "colab": {
          "base_uri": "https://localhost:8080/"
        },
        "id": "9kjJAE6jh4-x",
        "outputId": "edd7b362-8fb1-4ef1-fdf8-2300e92390f6"
      },
      "execution_count": 19,
      "outputs": [
        {
          "output_type": "stream",
          "name": "stdout",
          "text": [
            "Linear Regression RMSE: 1.2827947927038774\n",
            "Random Forest RMSE: 1.2967741436278861\n",
            "Decision Tree RMSE: 1.8612394582662415\n",
            "XGBoost RMSE: 1.393114677590161\n"
          ]
        }
      ]
    },
    {
      "cell_type": "code",
      "source": [
        "\n",
        "import pickle\n",
        "with open('drag_quantity_prediction','wb') as f:\n",
        "  pickle.dump(model,f)\n",
        "print(\"Model has been saved as 'drag_quantity_prediction.pkl\")"
      ],
      "metadata": {
        "colab": {
          "base_uri": "https://localhost:8080/"
        },
        "id": "1afA3j-ch7SN",
        "outputId": "7536e15d-c155-4d0b-e51d-8c82d0fd13ff"
      },
      "execution_count": 20,
      "outputs": [
        {
          "output_type": "stream",
          "name": "stdout",
          "text": [
            "Model has been saved as 'drag_quantity_prediction.pkl\n"
          ]
        }
      ]
    },
    {
      "cell_type": "code",
      "source": [
        "from google.colab import files\n",
        "files.download('drag_quantity_prediction')"
      ],
      "metadata": {
        "colab": {
          "base_uri": "https://localhost:8080/",
          "height": 17
        },
        "id": "l8G182veh9GX",
        "outputId": "4bb1de49-259c-4893-9958-974d56592c0a"
      },
      "execution_count": 21,
      "outputs": [
        {
          "output_type": "display_data",
          "data": {
            "text/plain": [
              "<IPython.core.display.Javascript object>"
            ],
            "application/javascript": [
              "\n",
              "    async function download(id, filename, size) {\n",
              "      if (!google.colab.kernel.accessAllowed) {\n",
              "        return;\n",
              "      }\n",
              "      const div = document.createElement('div');\n",
              "      const label = document.createElement('label');\n",
              "      label.textContent = `Downloading \"${filename}\": `;\n",
              "      div.appendChild(label);\n",
              "      const progress = document.createElement('progress');\n",
              "      progress.max = size;\n",
              "      div.appendChild(progress);\n",
              "      document.body.appendChild(div);\n",
              "\n",
              "      const buffers = [];\n",
              "      let downloaded = 0;\n",
              "\n",
              "      const channel = await google.colab.kernel.comms.open(id);\n",
              "      // Send a message to notify the kernel that we're ready.\n",
              "      channel.send({})\n",
              "\n",
              "      for await (const message of channel.messages) {\n",
              "        // Send a message to notify the kernel that we're ready.\n",
              "        channel.send({})\n",
              "        if (message.buffers) {\n",
              "          for (const buffer of message.buffers) {\n",
              "            buffers.push(buffer);\n",
              "            downloaded += buffer.byteLength;\n",
              "            progress.value = downloaded;\n",
              "          }\n",
              "        }\n",
              "      }\n",
              "      const blob = new Blob(buffers, {type: 'application/binary'});\n",
              "      const a = document.createElement('a');\n",
              "      a.href = window.URL.createObjectURL(blob);\n",
              "      a.download = filename;\n",
              "      div.appendChild(a);\n",
              "      a.click();\n",
              "      div.remove();\n",
              "    }\n",
              "  "
            ]
          },
          "metadata": {}
        },
        {
          "output_type": "display_data",
          "data": {
            "text/plain": [
              "<IPython.core.display.Javascript object>"
            ],
            "application/javascript": [
              "download(\"download_5ff3b4ef-3969-4c73-ab79-19aa7b72da2d\", \"drag_quantity_prediction\", 464629)"
            ]
          },
          "metadata": {}
        }
      ]
    },
    {
      "cell_type": "code",
      "source": [],
      "metadata": {
        "id": "OvbXeDFwh-qg"
      },
      "execution_count": 21,
      "outputs": []
    }
  ]
}