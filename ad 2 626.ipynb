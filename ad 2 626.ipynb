{
 "cells": [
  {
   "cell_type": "code",
   "execution_count": 1,
   "id": "fb6519e7-660b-4173-8a57-d0b50286d1ed",
   "metadata": {},
   "outputs": [
    {
     "name": "stdout",
     "output_type": "stream",
     "text": [
      "<function <lambda> at 0x000001D8B47A9580>\n",
      "15\n"
     ]
    }
   ],
   "source": [
    "#Functions\n",
    "#Lamda functions\n",
    "#c. Nested Functions\n",
    "#Decarators\n",
    "\n",
    "square = lambda x:x**2 in range(1,10)\n",
    "print(square)\n",
    "\n",
    "def calculator(a, b, operation):\n",
    "    if operation == \"add\":\n",
    "        return a + b\n",
    "    elif operation == \"subtract\":\n",
    "        return a - b\n",
    "    elif operation == \"multiply\":\n",
    "        return a * b\n",
    "    elif operation == \"divide\":\n",
    "        return a / b\n",
    "    else:\n",
    "        return \"Invalid operation\"\n",
    "\n",
    "print(calculator(10, 5, \"add\"))  # Output: 15"
   ]
  },
  {
   "cell_type": "code",
   "execution_count": 3,
   "id": "897c3302-190a-4213-8454-cbd053111994",
   "metadata": {},
   "outputs": [
    {
     "data": {
      "text/plain": [
       "[4, 5]"
      ]
     },
     "execution_count": 3,
     "metadata": {},
     "output_type": "execute_result"
    }
   ],
   "source": [
    "lis1 = [1,2,3,4,5]\n",
    "lis2 = lis1[3:6]\n",
    "lis2"
   ]
  },
  {
   "cell_type": "code",
   "execution_count": 5,
   "id": "4c2a6e1c-2fd5-4c31-98f7-2e761dcffdeb",
   "metadata": {},
   "outputs": [
    {
     "name": "stdout",
     "output_type": "stream",
     "text": [
      "[4, 5]\n",
      "<list_iterator object at 0x000001D8B52231C0>\n"
     ]
    }
   ],
   "source": [
    "lis1 = [1,2,3,4,5]\n",
    "lis2 = lis1[3:6]\n",
    "print(lis2)\n",
    "iterate_var = iter(lis1)\n",
    "print(iterate_var)\n"
   ]
  },
  {
   "cell_type": "code",
   "execution_count": 7,
   "id": "5a6bffb8-2930-4801-be1d-21357e66b5f2",
   "metadata": {},
   "outputs": [],
   "source": [
    "for i in iterate_var:\n",
    "    if i > 5:  \n",
    "        print(i + 1)  \n"
   ]
  },
  {
   "cell_type": "code",
   "execution_count": 9,
   "id": "1e56aed7-e997-4202-8bd1-e04566d45aa8",
   "metadata": {},
   "outputs": [
    {
     "name": "stdout",
     "output_type": "stream",
     "text": [
      "12\n"
     ]
    }
   ],
   "source": [
    "def square (i):\n",
    "    for i in range(i):\n",
    "        i=i+2\n",
    "    return i\n",
    "res = square(11)\n",
    "print(res)"
   ]
  },
  {
   "cell_type": "code",
   "execution_count": 11,
   "id": "4870752e-0402-4269-8990-a73dff8a9bb9",
   "metadata": {},
   "outputs": [
    {
     "name": "stdout",
     "output_type": "stream",
     "text": [
      "2\n",
      "3\n",
      "4\n",
      "5\n",
      "6\n",
      "7\n",
      "8\n",
      "9\n",
      "10\n",
      "11\n"
     ]
    }
   ],
   "source": [
    "def square (i):\n",
    "    for i in range(i):\n",
    "        i = i+2\n",
    "        yield i\n",
    "square(10)\n",
    "for i in square(10):\n",
    "    print(i)"
   ]
  },
  {
   "cell_type": "code",
   "execution_count": 13,
   "id": "c92f48a8-a803-4822-89b5-a6b9537c8a5a",
   "metadata": {},
   "outputs": [
    {
     "name": "stdout",
     "output_type": "stream",
     "text": [
      "0\n",
      "1\n",
      "2\n",
      "3\n",
      "4\n",
      "5\n",
      "36\n",
      "49\n",
      "64\n",
      "81\n"
     ]
    }
   ],
   "source": [
    "def square (i):\n",
    "    for i in range(i):\n",
    "        if i>5:\n",
    "            i = i**2\n",
    "        yield i\n",
    "square(10)\n",
    "for i in square(10):\n",
    "    print(i)"
   ]
  },
  {
   "cell_type": "code",
   "execution_count": 15,
   "id": "b6d0eb38-0265-4653-9c43-28a8edd2a00d",
   "metadata": {},
   "outputs": [
    {
     "name": "stdout",
     "output_type": "stream",
     "text": [
      "30\n"
     ]
    }
   ],
   "source": [
    "result = lambda x,y:x+y\n",
    "print(result(10,20))"
   ]
  },
  {
   "cell_type": "code",
   "execution_count": 17,
   "id": "520a55cc-ae7e-4dfc-9299-85b81eb7a3b1",
   "metadata": {},
   "outputs": [
    {
     "name": "stdout",
     "output_type": "stream",
     "text": [
      "HELLO\n"
     ]
    }
   ],
   "source": [
    "def sample(func):\n",
    "    def wrapper(item):\n",
    "        item = item.upper()\n",
    "        return func(item)\n",
    "    return wrapper \n",
    "\n",
    "@sample\n",
    "def process(item):\n",
    "    return item \n",
    "result = process\n",
    "print(result(\"hello\"))"
   ]
  },
  {
   "cell_type": "code",
   "execution_count": 23,
   "id": "52ef7150-bba1-42b2-aaba-3ad0e70dd756",
   "metadata": {},
   "outputs": [
    {
     "name": "stdout",
     "output_type": "stream",
     "text": [
      "{'mobile_usage': [1, 2, 5], 'name': ['bhavagna', 'sudharshan', 'sirikonda'], 'reg_no': [626, 627, 666]}\n",
      "   mobile_usage        name  reg_no\n",
      "0             1    bhavagna     626\n",
      "1             2  sudharshan     627\n",
      "2             5   sirikonda     666\n",
      "   mobile_usage        name  reg_no\n",
      "0             1    bhavagna     626\n",
      "1             2  sudharshan     627\n",
      "2             5   sirikonda     666\n"
     ]
    }
   ],
   "source": [
    "import pandas as pd \n",
    "mobile_usage =[1,2,5]\n",
    "name = [\"bhavagna\",\"sudharshan\",\"sirikonda\"]\n",
    "reg_no = [626,627,666]\n",
    "dict1 = {\"mobile_usage\":mobile_usage,\"name\":name,\"reg_no\":reg_no}\n",
    "print(dict1)\n",
    "df = pd.DataFrame(dict1)\n",
    "print(df)\n",
    "df.head(5)\n",
    "df.tail(5)\n",
    "print(df)\n",
    "\n",
    "\n"
   ]
  },
  {
   "cell_type": "code",
   "execution_count": 27,
   "id": "65375799-26c8-427b-b958-4d8cabb1c09d",
   "metadata": {},
   "outputs": [
    {
     "name": "stdout",
     "output_type": "stream",
     "text": [
      "   product_id product_name  discount_percentage\n",
      "0         101    Product_1                    5\n",
      "1         102    Product_2                    6\n",
      "2         103    Product_3                    7\n",
      "3         104    Product_4                    8\n",
      "4         105    Product_5                    9\n"
     ]
    }
   ],
   "source": [
    "import pandas as pd  \n",
    "\n",
    "product_id = list(range(101, 121))  \n",
    "product_name = [f\"Product_{i}\" for i in range(1, 21)]  \n",
    "discount_percentage = [i % 10 + 5 for i in range(20)]  # Varying discount values  \n",
    "\n",
    "\n",
    "product_data = {  \n",
    "    \"product_id\": product_id,  \n",
    "    \"product_name\": product_name,  \n",
    "    \"discount_percentage\": discount_percentage  \n",
    "}  \n",
    "\n",
    " \n",
    "df = pd.DataFrame(product_data)  \n",
    "\n",
    " \n",
    "print(df.head(5))  \n"
   ]
  },
  {
   "cell_type": "code",
   "execution_count": null,
   "id": "a4a94a94-60ba-4faa-8b30-984ccddc7c45",
   "metadata": {},
   "outputs": [],
   "source": []
  }
 ],
 "metadata": {
  "kernelspec": {
   "display_name": "Python 3 (ipykernel)",
   "language": "python",
   "name": "python3"
  },
  "language_info": {
   "codemirror_mode": {
    "name": "ipython",
    "version": 3
   },
   "file_extension": ".py",
   "mimetype": "text/x-python",
   "name": "python",
   "nbconvert_exporter": "python",
   "pygments_lexer": "ipython3",
   "version": "3.12.7"
  }
 },
 "nbformat": 4,
 "nbformat_minor": 5
}
